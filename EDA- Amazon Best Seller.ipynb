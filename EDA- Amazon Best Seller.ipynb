{
 "cells": [
  {
   "cell_type": "markdown",
   "metadata": {},
   "source": [
    "# PROJECT TITLE:AMAZON BEST SELLER ANALYSIS"
   ]
  },
  {
   "cell_type": "markdown",
   "metadata": {},
   "source": [
    "# About this Dataset"
   ]
  },
  {
   "cell_type": "markdown",
   "metadata": {},
   "source": [
    "# Introduction"
   ]
  },
  {
   "cell_type": "markdown",
   "metadata": {},
   "source": [
    "This research is based on the record of Amazon E-commerce data of one month. The research is conducted to find out the Best Amazon  Seller of 2021 June. The growth of E-commerce is increasing and market competitions are also high in this scenario, According Amazon wants to find out the best sellers to improve the productivity of the organization. Here I am going to explore the data of Amazon's one month that is for 2021 June."
   ]
  },
  {
   "cell_type": "markdown",
   "metadata": {},
   "source": [
    "# Attribute Information"
   ]
  },
  {
   "cell_type": "raw",
   "metadata": {},
   "source": [
    "Amazon_Best_Seller_2021_June is a dataset on Amazon's top 100 selling products 2021. Data has been categorized into:\n",
    "\n",
    "1)ASIN\n",
    "2)Category\n",
    "3)Product Link\n",
    "4)No of Sellers\n",
    "5)Rating\n",
    "6)Reviews Count\n",
    "7)Price\n",
    "\n",
    "About ASIN:\n",
    "\n",
    "An Amazon Standard Identification Number (ASIN) is a 10-character alphanumeric unique identifier assigned by Amazon.com and its partners for product identification within the Amazon organization.\n",
    "\n",
    "Type of Categories are as follow:\n",
    "\n",
    "Electronics\n",
    "Clothing, Shoes & Jewelry\n",
    "Gift Cards\n",
    "Books\n",
    "Video Games\n",
    "Camera & Photo"
   ]
  },
  {
   "cell_type": "markdown",
   "metadata": {},
   "source": [
    "# Importing libraries"
   ]
  },
  {
   "cell_type": "code",
   "execution_count": 1,
   "metadata": {},
   "outputs": [],
   "source": [
    "import numpy as np\n",
    "import seaborn as sns\n",
    "import matplotlib.pyplot as plt\n",
    "import pandas as pd\n",
    "import plotly.express as px"
   ]
  },
  {
   "cell_type": "markdown",
   "metadata": {},
   "source": [
    "# Getting the data set"
   ]
  },
  {
   "cell_type": "code",
   "execution_count": 2,
   "metadata": {
    "scrolled": true
   },
   "outputs": [],
   "source": [
    "amazon = pd.read_csv(\"Amazon_Best_Seller_2021_June.csv\")"
   ]
  },
  {
   "cell_type": "markdown",
   "metadata": {},
   "source": [
    "# Data Analysis"
   ]
  },
  {
   "cell_type": "code",
   "execution_count": 3,
   "metadata": {},
   "outputs": [
    {
     "data": {
      "text/html": [
       "<div>\n",
       "<style scoped>\n",
       "    .dataframe tbody tr th:only-of-type {\n",
       "        vertical-align: middle;\n",
       "    }\n",
       "\n",
       "    .dataframe tbody tr th {\n",
       "        vertical-align: top;\n",
       "    }\n",
       "\n",
       "    .dataframe thead th {\n",
       "        text-align: right;\n",
       "    }\n",
       "</style>\n",
       "<table border=\"1\" class=\"dataframe\">\n",
       "  <thead>\n",
       "    <tr style=\"text-align: right;\">\n",
       "      <th></th>\n",
       "      <th>ASIN</th>\n",
       "      <th>Category</th>\n",
       "      <th>Product Link</th>\n",
       "      <th>No of Sellers</th>\n",
       "      <th>Rank</th>\n",
       "      <th>Rating</th>\n",
       "      <th>Reviews Count</th>\n",
       "      <th>Price</th>\n",
       "    </tr>\n",
       "  </thead>\n",
       "  <tbody>\n",
       "    <tr>\n",
       "      <th>0</th>\n",
       "      <td>B079QHML21</td>\n",
       "      <td>Electronics</td>\n",
       "      <td>https://www.amazon.com/gp/offer-listing/B079QH...</td>\n",
       "      <td>1 Sellers</td>\n",
       "      <td>#1</td>\n",
       "      <td>4.7</td>\n",
       "      <td>640,721</td>\n",
       "      <td>$39.99</td>\n",
       "    </tr>\n",
       "    <tr>\n",
       "      <th>1</th>\n",
       "      <td>B07FZ8S74R</td>\n",
       "      <td>Electronics</td>\n",
       "      <td>https://www.amazon.com/gp/offer-listing/B07FZ8...</td>\n",
       "      <td>1 Sellers</td>\n",
       "      <td>#2</td>\n",
       "      <td>4.7</td>\n",
       "      <td>854,114</td>\n",
       "      <td>$34.99</td>\n",
       "    </tr>\n",
       "    <tr>\n",
       "      <th>2</th>\n",
       "      <td>B07XJ8C8F5</td>\n",
       "      <td>Electronics</td>\n",
       "      <td>https://www.amazon.com/gp/offer-listing/B07XJ8...</td>\n",
       "      <td>1 Sellers</td>\n",
       "      <td>#3</td>\n",
       "      <td>4.7</td>\n",
       "      <td>267,821</td>\n",
       "      <td>$44.99</td>\n",
       "    </tr>\n",
       "    <tr>\n",
       "      <th>3</th>\n",
       "      <td>B07WVFCVJN</td>\n",
       "      <td>Electronics</td>\n",
       "      <td>https://www.amazon.com/gp/offer-listing/B07WVF...</td>\n",
       "      <td>27 Sellers</td>\n",
       "      <td>#4</td>\n",
       "      <td>4.8</td>\n",
       "      <td>114,267</td>\n",
       "      <td>$28.48</td>\n",
       "    </tr>\n",
       "    <tr>\n",
       "      <th>4</th>\n",
       "      <td>B08YT2N5SX</td>\n",
       "      <td>Electronics</td>\n",
       "      <td>https://www.amazon.com/gp/offer-listing/B08YT2...</td>\n",
       "      <td>1 Sellers</td>\n",
       "      <td>#5</td>\n",
       "      <td>4.7</td>\n",
       "      <td>267,821</td>\n",
       "      <td>$49.99</td>\n",
       "    </tr>\n",
       "  </tbody>\n",
       "</table>\n",
       "</div>"
      ],
      "text/plain": [
       "         ASIN     Category                                       Product Link  \\\n",
       "0  B079QHML21  Electronics  https://www.amazon.com/gp/offer-listing/B079QH...   \n",
       "1  B07FZ8S74R  Electronics  https://www.amazon.com/gp/offer-listing/B07FZ8...   \n",
       "2  B07XJ8C8F5  Electronics  https://www.amazon.com/gp/offer-listing/B07XJ8...   \n",
       "3  B07WVFCVJN  Electronics  https://www.amazon.com/gp/offer-listing/B07WVF...   \n",
       "4  B08YT2N5SX  Electronics  https://www.amazon.com/gp/offer-listing/B08YT2...   \n",
       "\n",
       "  No of Sellers Rank  Rating Reviews Count    Price  \n",
       "0     1 Sellers   #1     4.7       640,721  $39.99   \n",
       "1     1 Sellers   #2     4.7       854,114  $34.99   \n",
       "2     1 Sellers   #3     4.7       267,821  $44.99   \n",
       "3    27 Sellers   #4     4.8       114,267  $28.48   \n",
       "4     1 Sellers   #5     4.7       267,821  $49.99   "
      ]
     },
     "execution_count": 3,
     "metadata": {},
     "output_type": "execute_result"
    }
   ],
   "source": [
    "#viewing data\n",
    "amazon.head(5)"
   ]
  },
  {
   "cell_type": "code",
   "execution_count": 4,
   "metadata": {},
   "outputs": [
    {
     "data": {
      "text/plain": [
       "<bound method DataFrame.nunique of            ASIN      Category  \\\n",
       "0    B079QHML21   Electronics   \n",
       "1    B07FZ8S74R   Electronics   \n",
       "2    B07XJ8C8F5   Electronics   \n",
       "3    B07WVFCVJN   Electronics   \n",
       "4    B08YT2N5SX   Electronics   \n",
       "..          ...           ...   \n",
       "702  B007DW6F34  Toys & Games   \n",
       "703  B01N16VX79  Toys & Games   \n",
       "704  B09197N995  Toys & Games   \n",
       "705  B015CCR1FW  Toys & Games   \n",
       "706  B07TS96J7Q  Toys & Games   \n",
       "\n",
       "                                          Product Link No of Sellers Rank  \\\n",
       "0    https://www.amazon.com/gp/offer-listing/B079QH...     1 Sellers   #1   \n",
       "1    https://www.amazon.com/gp/offer-listing/B07FZ8...     1 Sellers   #2   \n",
       "2    https://www.amazon.com/gp/offer-listing/B07XJ8...     1 Sellers   #3   \n",
       "3    https://www.amazon.com/gp/offer-listing/B07WVF...    27 Sellers   #4   \n",
       "4    https://www.amazon.com/gp/offer-listing/B08YT2...     1 Sellers   #5   \n",
       "..                                                 ...           ...  ...   \n",
       "702  https://www.amazon.com/gp/offer-listing/B007DW...    10 Sellers  #95   \n",
       "703  https://www.amazon.com/gp/offer-listing/B01N16...     5 Sellers  #96   \n",
       "704  https://www.amazon.com/gp/offer-listing/B09197...     1 Sellers  #97   \n",
       "705  https://www.amazon.com/gp/offer-listing/B015CC...    26 Sellers  #98   \n",
       "706  https://www.amazon.com/gp/offer-listing/B07TS9...     2 Sellers  #99   \n",
       "\n",
       "     Rating Reviews Count    Price  \n",
       "0       4.7       640,721  $39.99   \n",
       "1       4.7       854,114  $34.99   \n",
       "2       4.7       267,821  $44.99   \n",
       "3       4.8       114,267  $28.48   \n",
       "4       4.7       267,821  $49.99   \n",
       "..      ...           ...      ...  \n",
       "702     4.6         8,795   $6.99   \n",
       "703     4.7           649  $16.99   \n",
       "704     4.8         9,121   $8.99   \n",
       "705     4.7        18,449  $19.99   \n",
       "706     4.7        12,902  $24.99   \n",
       "\n",
       "[707 rows x 8 columns]>"
      ]
     },
     "execution_count": 4,
     "metadata": {},
     "output_type": "execute_result"
    }
   ],
   "source": [
    "#To count the unique values of each column of a dataframe.\n",
    "amazon.nunique"
   ]
  },
  {
   "cell_type": "code",
   "execution_count": 5,
   "metadata": {
    "scrolled": true
   },
   "outputs": [
    {
     "name": "stdout",
     "output_type": "stream",
     "text": [
      "<class 'pandas.core.frame.DataFrame'>\n",
      "RangeIndex: 707 entries, 0 to 706\n",
      "Data columns (total 8 columns):\n",
      " #   Column         Non-Null Count  Dtype  \n",
      "---  ------         --------------  -----  \n",
      " 0   ASIN           707 non-null    object \n",
      " 1   Category       707 non-null    object \n",
      " 2   Product Link   707 non-null    object \n",
      " 3   No of Sellers  707 non-null    object \n",
      " 4   Rank           707 non-null    object \n",
      " 5   Rating         707 non-null    float64\n",
      " 6   Reviews Count  707 non-null    object \n",
      " 7   Price          707 non-null    object \n",
      "dtypes: float64(1), object(7)\n",
      "memory usage: 44.3+ KB\n"
     ]
    }
   ],
   "source": [
    "#Checking info\n",
    "amazon.info()"
   ]
  },
  {
   "cell_type": "code",
   "execution_count": 6,
   "metadata": {},
   "outputs": [
    {
     "data": {
      "text/plain": [
       "(707, 8)"
      ]
     },
     "execution_count": 6,
     "metadata": {},
     "output_type": "execute_result"
    }
   ],
   "source": [
    "#Checking shape or dimension.\n",
    "amazon.shape"
   ]
  },
  {
   "cell_type": "code",
   "execution_count": 7,
   "metadata": {},
   "outputs": [
    {
     "data": {
      "text/html": [
       "<div>\n",
       "<style scoped>\n",
       "    .dataframe tbody tr th:only-of-type {\n",
       "        vertical-align: middle;\n",
       "    }\n",
       "\n",
       "    .dataframe tbody tr th {\n",
       "        vertical-align: top;\n",
       "    }\n",
       "\n",
       "    .dataframe thead th {\n",
       "        text-align: right;\n",
       "    }\n",
       "</style>\n",
       "<table border=\"1\" class=\"dataframe\">\n",
       "  <thead>\n",
       "    <tr style=\"text-align: right;\">\n",
       "      <th></th>\n",
       "      <th>Rating</th>\n",
       "    </tr>\n",
       "  </thead>\n",
       "  <tbody>\n",
       "    <tr>\n",
       "      <th>count</th>\n",
       "      <td>707.000000</td>\n",
       "    </tr>\n",
       "    <tr>\n",
       "      <th>mean</th>\n",
       "      <td>4.593494</td>\n",
       "    </tr>\n",
       "    <tr>\n",
       "      <th>std</th>\n",
       "      <td>0.284117</td>\n",
       "    </tr>\n",
       "    <tr>\n",
       "      <th>min</th>\n",
       "      <td>1.400000</td>\n",
       "    </tr>\n",
       "    <tr>\n",
       "      <th>25%</th>\n",
       "      <td>4.500000</td>\n",
       "    </tr>\n",
       "    <tr>\n",
       "      <th>50%</th>\n",
       "      <td>4.700000</td>\n",
       "    </tr>\n",
       "    <tr>\n",
       "      <th>75%</th>\n",
       "      <td>4.800000</td>\n",
       "    </tr>\n",
       "    <tr>\n",
       "      <th>max</th>\n",
       "      <td>5.000000</td>\n",
       "    </tr>\n",
       "  </tbody>\n",
       "</table>\n",
       "</div>"
      ],
      "text/plain": [
       "           Rating\n",
       "count  707.000000\n",
       "mean     4.593494\n",
       "std      0.284117\n",
       "min      1.400000\n",
       "25%      4.500000\n",
       "50%      4.700000\n",
       "75%      4.800000\n",
       "max      5.000000"
      ]
     },
     "execution_count": 7,
     "metadata": {},
     "output_type": "execute_result"
    }
   ],
   "source": [
    "#Viewing descriptive statistics\n",
    "amazon.describe()"
   ]
  },
  {
   "cell_type": "code",
   "execution_count": 8,
   "metadata": {},
   "outputs": [
    {
     "data": {
      "text/plain": [
       "ASIN             0\n",
       "Category         0\n",
       "Product Link     0\n",
       "No of Sellers    0\n",
       "Rank             0\n",
       "Rating           0\n",
       "Reviews Count    0\n",
       "Price            0\n",
       "dtype: int64"
      ]
     },
     "execution_count": 8,
     "metadata": {},
     "output_type": "execute_result"
    }
   ],
   "source": [
    "#Checking for Null Values\n",
    "amazon.isnull().sum()"
   ]
  },
  {
   "cell_type": "markdown",
   "metadata": {},
   "source": [
    "# Dropping unwanted columns"
   ]
  },
  {
   "cell_type": "code",
   "execution_count": 9,
   "metadata": {},
   "outputs": [],
   "source": [
    "amazon=amazon.drop(\"ASIN\",axis=1)"
   ]
  },
  {
   "cell_type": "code",
   "execution_count": 10,
   "metadata": {},
   "outputs": [],
   "source": [
    "amazon = amazon.drop(['Product Link'], axis=1)"
   ]
  },
  {
   "cell_type": "code",
   "execution_count": 11,
   "metadata": {},
   "outputs": [
    {
     "data": {
      "text/html": [
       "<div>\n",
       "<style scoped>\n",
       "    .dataframe tbody tr th:only-of-type {\n",
       "        vertical-align: middle;\n",
       "    }\n",
       "\n",
       "    .dataframe tbody tr th {\n",
       "        vertical-align: top;\n",
       "    }\n",
       "\n",
       "    .dataframe thead th {\n",
       "        text-align: right;\n",
       "    }\n",
       "</style>\n",
       "<table border=\"1\" class=\"dataframe\">\n",
       "  <thead>\n",
       "    <tr style=\"text-align: right;\">\n",
       "      <th></th>\n",
       "      <th>Category</th>\n",
       "      <th>No of Sellers</th>\n",
       "      <th>Rank</th>\n",
       "      <th>Rating</th>\n",
       "      <th>Reviews Count</th>\n",
       "      <th>Price</th>\n",
       "    </tr>\n",
       "  </thead>\n",
       "  <tbody>\n",
       "    <tr>\n",
       "      <th>0</th>\n",
       "      <td>Electronics</td>\n",
       "      <td>1 Sellers</td>\n",
       "      <td>#1</td>\n",
       "      <td>4.7</td>\n",
       "      <td>640,721</td>\n",
       "      <td>$39.99</td>\n",
       "    </tr>\n",
       "    <tr>\n",
       "      <th>1</th>\n",
       "      <td>Electronics</td>\n",
       "      <td>1 Sellers</td>\n",
       "      <td>#2</td>\n",
       "      <td>4.7</td>\n",
       "      <td>854,114</td>\n",
       "      <td>$34.99</td>\n",
       "    </tr>\n",
       "    <tr>\n",
       "      <th>2</th>\n",
       "      <td>Electronics</td>\n",
       "      <td>1 Sellers</td>\n",
       "      <td>#3</td>\n",
       "      <td>4.7</td>\n",
       "      <td>267,821</td>\n",
       "      <td>$44.99</td>\n",
       "    </tr>\n",
       "    <tr>\n",
       "      <th>3</th>\n",
       "      <td>Electronics</td>\n",
       "      <td>27 Sellers</td>\n",
       "      <td>#4</td>\n",
       "      <td>4.8</td>\n",
       "      <td>114,267</td>\n",
       "      <td>$28.48</td>\n",
       "    </tr>\n",
       "    <tr>\n",
       "      <th>4</th>\n",
       "      <td>Electronics</td>\n",
       "      <td>1 Sellers</td>\n",
       "      <td>#5</td>\n",
       "      <td>4.7</td>\n",
       "      <td>267,821</td>\n",
       "      <td>$49.99</td>\n",
       "    </tr>\n",
       "    <tr>\n",
       "      <th>...</th>\n",
       "      <td>...</td>\n",
       "      <td>...</td>\n",
       "      <td>...</td>\n",
       "      <td>...</td>\n",
       "      <td>...</td>\n",
       "      <td>...</td>\n",
       "    </tr>\n",
       "    <tr>\n",
       "      <th>702</th>\n",
       "      <td>Toys &amp; Games</td>\n",
       "      <td>10 Sellers</td>\n",
       "      <td>#95</td>\n",
       "      <td>4.6</td>\n",
       "      <td>8,795</td>\n",
       "      <td>$6.99</td>\n",
       "    </tr>\n",
       "    <tr>\n",
       "      <th>703</th>\n",
       "      <td>Toys &amp; Games</td>\n",
       "      <td>5 Sellers</td>\n",
       "      <td>#96</td>\n",
       "      <td>4.7</td>\n",
       "      <td>649</td>\n",
       "      <td>$16.99</td>\n",
       "    </tr>\n",
       "    <tr>\n",
       "      <th>704</th>\n",
       "      <td>Toys &amp; Games</td>\n",
       "      <td>1 Sellers</td>\n",
       "      <td>#97</td>\n",
       "      <td>4.8</td>\n",
       "      <td>9,121</td>\n",
       "      <td>$8.99</td>\n",
       "    </tr>\n",
       "    <tr>\n",
       "      <th>705</th>\n",
       "      <td>Toys &amp; Games</td>\n",
       "      <td>26 Sellers</td>\n",
       "      <td>#98</td>\n",
       "      <td>4.7</td>\n",
       "      <td>18,449</td>\n",
       "      <td>$19.99</td>\n",
       "    </tr>\n",
       "    <tr>\n",
       "      <th>706</th>\n",
       "      <td>Toys &amp; Games</td>\n",
       "      <td>2 Sellers</td>\n",
       "      <td>#99</td>\n",
       "      <td>4.7</td>\n",
       "      <td>12,902</td>\n",
       "      <td>$24.99</td>\n",
       "    </tr>\n",
       "  </tbody>\n",
       "</table>\n",
       "<p>707 rows × 6 columns</p>\n",
       "</div>"
      ],
      "text/plain": [
       "         Category No of Sellers Rank  Rating Reviews Count    Price\n",
       "0     Electronics     1 Sellers   #1     4.7       640,721  $39.99 \n",
       "1     Electronics     1 Sellers   #2     4.7       854,114  $34.99 \n",
       "2     Electronics     1 Sellers   #3     4.7       267,821  $44.99 \n",
       "3     Electronics    27 Sellers   #4     4.8       114,267  $28.48 \n",
       "4     Electronics     1 Sellers   #5     4.7       267,821  $49.99 \n",
       "..            ...           ...  ...     ...           ...      ...\n",
       "702  Toys & Games    10 Sellers  #95     4.6         8,795   $6.99 \n",
       "703  Toys & Games     5 Sellers  #96     4.7           649  $16.99 \n",
       "704  Toys & Games     1 Sellers  #97     4.8         9,121   $8.99 \n",
       "705  Toys & Games    26 Sellers  #98     4.7        18,449  $19.99 \n",
       "706  Toys & Games     2 Sellers  #99     4.7        12,902  $24.99 \n",
       "\n",
       "[707 rows x 6 columns]"
      ]
     },
     "execution_count": 11,
     "metadata": {},
     "output_type": "execute_result"
    }
   ],
   "source": [
    "amazon"
   ]
  },
  {
   "cell_type": "markdown",
   "metadata": {},
   "source": [
    "# Replacing the special charaters and assigning the datatypes"
   ]
  },
  {
   "cell_type": "code",
   "execution_count": 12,
   "metadata": {},
   "outputs": [],
   "source": [
    "amazon[\"Reviews Count\"]= amazon[\"Reviews Count\"].str.replace(',', '').astype(float).astype(int)"
   ]
  },
  {
   "cell_type": "code",
   "execution_count": 13,
   "metadata": {},
   "outputs": [
    {
     "name": "stderr",
     "output_type": "stream",
     "text": [
      "<ipython-input-13-560f70c8d6d9>:1: FutureWarning: The default value of regex will change from True to False in a future version. In addition, single character regular expressions will*not* be treated as literal strings when regex=True.\n",
      "  amazon[\"Price\"]=amazon.Price.str.replace(\"$\",\"\").astype(float)\n"
     ]
    }
   ],
   "source": [
    "amazon[\"Price\"]=amazon.Price.str.replace(\"$\",\"\").astype(float)"
   ]
  },
  {
   "cell_type": "code",
   "execution_count": 14,
   "metadata": {},
   "outputs": [],
   "source": [
    "amazon[\"Rank\"]=amazon.Rank.str.replace(\"#\",\"\").astype(int)"
   ]
  },
  {
   "cell_type": "code",
   "execution_count": 15,
   "metadata": {},
   "outputs": [],
   "source": [
    "amazon[\"No of Sellers\"]= amazon[\"No of Sellers\"].str.replace('Sellers', '').astype(int)"
   ]
  },
  {
   "cell_type": "code",
   "execution_count": 16,
   "metadata": {
    "scrolled": true
   },
   "outputs": [
    {
     "name": "stdout",
     "output_type": "stream",
     "text": [
      "<class 'pandas.core.frame.DataFrame'>\n",
      "RangeIndex: 707 entries, 0 to 706\n",
      "Data columns (total 6 columns):\n",
      " #   Column         Non-Null Count  Dtype  \n",
      "---  ------         --------------  -----  \n",
      " 0   Category       707 non-null    object \n",
      " 1   No of Sellers  707 non-null    int32  \n",
      " 2   Rank           707 non-null    int32  \n",
      " 3   Rating         707 non-null    float64\n",
      " 4   Reviews Count  707 non-null    int32  \n",
      " 5   Price          707 non-null    float64\n",
      "dtypes: float64(2), int32(3), object(1)\n",
      "memory usage: 25.0+ KB\n"
     ]
    }
   ],
   "source": [
    "amazon.info()"
   ]
  },
  {
   "cell_type": "markdown",
   "metadata": {},
   "source": [
    "# Convertion of datatype object into a numeric value"
   ]
  },
  {
   "cell_type": "code",
   "execution_count": 17,
   "metadata": {},
   "outputs": [
    {
     "data": {
      "text/plain": [
       "array(['Electronics', 'Clothing, Shoes & Jewelry', 'Gift Cards', 'Books',\n",
       "       'Video Games', 'Camera & Photo', 'Toys & Games'], dtype=object)"
      ]
     },
     "execution_count": 17,
     "metadata": {},
     "output_type": "execute_result"
    }
   ],
   "source": [
    "amazon['Category'].unique()"
   ]
  },
  {
   "cell_type": "code",
   "execution_count": 18,
   "metadata": {},
   "outputs": [
    {
     "data": {
      "text/plain": [
       "Electronics                  147\n",
       "Camera & Photo               100\n",
       "Clothing, Shoes & Jewelry    100\n",
       "Gift Cards                   100\n",
       "Toys & Games                  95\n",
       "Video Games                   95\n",
       "Books                         70\n",
       "Name: Category, dtype: int64"
      ]
     },
     "execution_count": 18,
     "metadata": {},
     "output_type": "execute_result"
    }
   ],
   "source": [
    "amazon[\"Category\"].value_counts().sort_values(ascending=False)"
   ]
  },
  {
   "cell_type": "code",
   "execution_count": 19,
   "metadata": {},
   "outputs": [],
   "source": [
    "category_dict = {'Electronics':0, 'Clothing, Shoes & Jewelry':1, 'Gift Cards':2, 'Books':3,\n",
    "       'Video Games':4, 'Camera & Photo':5, 'Toys & Games':6}\n",
    "amazon['Category'] = amazon['Category'].map(category_dict)"
   ]
  },
  {
   "cell_type": "code",
   "execution_count": 20,
   "metadata": {},
   "outputs": [
    {
     "name": "stdout",
     "output_type": "stream",
     "text": [
      "<class 'pandas.core.frame.DataFrame'>\n",
      "RangeIndex: 707 entries, 0 to 706\n",
      "Data columns (total 6 columns):\n",
      " #   Column         Non-Null Count  Dtype  \n",
      "---  ------         --------------  -----  \n",
      " 0   Category       707 non-null    int64  \n",
      " 1   No of Sellers  707 non-null    int32  \n",
      " 2   Rank           707 non-null    int32  \n",
      " 3   Rating         707 non-null    float64\n",
      " 4   Reviews Count  707 non-null    int32  \n",
      " 5   Price          707 non-null    float64\n",
      "dtypes: float64(2), int32(3), int64(1)\n",
      "memory usage: 25.0 KB\n"
     ]
    }
   ],
   "source": [
    "amazon.info()"
   ]
  },
  {
   "cell_type": "markdown",
   "metadata": {},
   "source": [
    "Now every features is converted into a numeric value as float64 and int32."
   ]
  },
  {
   "cell_type": "markdown",
   "metadata": {},
   "source": [
    "# Data Visualizations"
   ]
  },
  {
   "cell_type": "code",
   "execution_count": 21,
   "metadata": {},
   "outputs": [
    {
     "data": {
      "text/html": [
       "<div>\n",
       "<style scoped>\n",
       "    .dataframe tbody tr th:only-of-type {\n",
       "        vertical-align: middle;\n",
       "    }\n",
       "\n",
       "    .dataframe tbody tr th {\n",
       "        vertical-align: top;\n",
       "    }\n",
       "\n",
       "    .dataframe thead th {\n",
       "        text-align: right;\n",
       "    }\n",
       "</style>\n",
       "<table border=\"1\" class=\"dataframe\">\n",
       "  <thead>\n",
       "    <tr style=\"text-align: right;\">\n",
       "      <th></th>\n",
       "      <th>Category</th>\n",
       "      <th>No of Sellers</th>\n",
       "      <th>Rank</th>\n",
       "      <th>Rating</th>\n",
       "      <th>Reviews Count</th>\n",
       "      <th>Price</th>\n",
       "    </tr>\n",
       "  </thead>\n",
       "  <tbody>\n",
       "    <tr>\n",
       "      <th>0</th>\n",
       "      <td>0</td>\n",
       "      <td>1</td>\n",
       "      <td>1</td>\n",
       "      <td>4.7</td>\n",
       "      <td>640721</td>\n",
       "      <td>39.99</td>\n",
       "    </tr>\n",
       "    <tr>\n",
       "      <th>1</th>\n",
       "      <td>0</td>\n",
       "      <td>1</td>\n",
       "      <td>2</td>\n",
       "      <td>4.7</td>\n",
       "      <td>854114</td>\n",
       "      <td>34.99</td>\n",
       "    </tr>\n",
       "    <tr>\n",
       "      <th>2</th>\n",
       "      <td>0</td>\n",
       "      <td>1</td>\n",
       "      <td>3</td>\n",
       "      <td>4.7</td>\n",
       "      <td>267821</td>\n",
       "      <td>44.99</td>\n",
       "    </tr>\n",
       "    <tr>\n",
       "      <th>3</th>\n",
       "      <td>0</td>\n",
       "      <td>27</td>\n",
       "      <td>4</td>\n",
       "      <td>4.8</td>\n",
       "      <td>114267</td>\n",
       "      <td>28.48</td>\n",
       "    </tr>\n",
       "    <tr>\n",
       "      <th>4</th>\n",
       "      <td>0</td>\n",
       "      <td>1</td>\n",
       "      <td>5</td>\n",
       "      <td>4.7</td>\n",
       "      <td>267821</td>\n",
       "      <td>49.99</td>\n",
       "    </tr>\n",
       "    <tr>\n",
       "      <th>...</th>\n",
       "      <td>...</td>\n",
       "      <td>...</td>\n",
       "      <td>...</td>\n",
       "      <td>...</td>\n",
       "      <td>...</td>\n",
       "      <td>...</td>\n",
       "    </tr>\n",
       "    <tr>\n",
       "      <th>702</th>\n",
       "      <td>6</td>\n",
       "      <td>10</td>\n",
       "      <td>95</td>\n",
       "      <td>4.6</td>\n",
       "      <td>8795</td>\n",
       "      <td>6.99</td>\n",
       "    </tr>\n",
       "    <tr>\n",
       "      <th>703</th>\n",
       "      <td>6</td>\n",
       "      <td>5</td>\n",
       "      <td>96</td>\n",
       "      <td>4.7</td>\n",
       "      <td>649</td>\n",
       "      <td>16.99</td>\n",
       "    </tr>\n",
       "    <tr>\n",
       "      <th>704</th>\n",
       "      <td>6</td>\n",
       "      <td>1</td>\n",
       "      <td>97</td>\n",
       "      <td>4.8</td>\n",
       "      <td>9121</td>\n",
       "      <td>8.99</td>\n",
       "    </tr>\n",
       "    <tr>\n",
       "      <th>705</th>\n",
       "      <td>6</td>\n",
       "      <td>26</td>\n",
       "      <td>98</td>\n",
       "      <td>4.7</td>\n",
       "      <td>18449</td>\n",
       "      <td>19.99</td>\n",
       "    </tr>\n",
       "    <tr>\n",
       "      <th>706</th>\n",
       "      <td>6</td>\n",
       "      <td>2</td>\n",
       "      <td>99</td>\n",
       "      <td>4.7</td>\n",
       "      <td>12902</td>\n",
       "      <td>24.99</td>\n",
       "    </tr>\n",
       "  </tbody>\n",
       "</table>\n",
       "<p>707 rows × 6 columns</p>\n",
       "</div>"
      ],
      "text/plain": [
       "     Category  No of Sellers  Rank  Rating  Reviews Count  Price\n",
       "0           0              1     1     4.7         640721  39.99\n",
       "1           0              1     2     4.7         854114  34.99\n",
       "2           0              1     3     4.7         267821  44.99\n",
       "3           0             27     4     4.8         114267  28.48\n",
       "4           0              1     5     4.7         267821  49.99\n",
       "..        ...            ...   ...     ...            ...    ...\n",
       "702         6             10    95     4.6           8795   6.99\n",
       "703         6              5    96     4.7            649  16.99\n",
       "704         6              1    97     4.8           9121   8.99\n",
       "705         6             26    98     4.7          18449  19.99\n",
       "706         6              2    99     4.7          12902  24.99\n",
       "\n",
       "[707 rows x 6 columns]"
      ]
     },
     "execution_count": 21,
     "metadata": {},
     "output_type": "execute_result"
    }
   ],
   "source": [
    "amazon"
   ]
  },
  {
   "cell_type": "markdown",
   "metadata": {},
   "source": [
    "# 1.1 Category"
   ]
  },
  {
   "cell_type": "code",
   "execution_count": 22,
   "metadata": {
    "scrolled": false
   },
   "outputs": [
    {
     "data": {
      "image/png": "[encoded data removed]",
      "text/plain": [
       "<Figure size 432x6048 with 1 Axes>"
      ]
     },
     "metadata": {},
     "output_type": "display_data"
    }
   ],
   "source": [
    "x= amazon[\"Category\"].value_counts().sort_values(ascending=False)\n",
    "\n",
    "plt.figure(figsize=(6,84))\n",
    "plt.pie(x,colors= [\"red\",\"green\",\"yellow\",\"maroon\",\"blue\",\"orange\",\"purple\"],labels=[\"Electronics\",\"Clothing, Shoes & Jewelry\",\"Gift Cards\",\"Camera & Photo\",\"Video Games\",\"Toys & Games\",\"Books\"],autopct = \"%0.2f%%\")\n",
    "plt.title(\"Products\")\n",
    "plt.show()"
   ]
  },
  {
   "cell_type": "markdown",
   "metadata": {},
   "source": [
    "The sellers having similar quantity of products in the given category except the seller who can sell only having 9.90 percentage books to sell . Intertesting factor is that the sellers who is having huge amount of Electonics items with 20.79 percentage."
   ]
  },
  {
   "cell_type": "markdown",
   "metadata": {},
   "source": [
    "# 1.2 No Of Sellers"
   ]
  },
  {
   "cell_type": "code",
   "execution_count": 23,
   "metadata": {
    "scrolled": true
   },
   "outputs": [
    {
     "data": {
      "text/plain": [
       "1      382\n",
       "2       66\n",
       "4       35\n",
       "3       32\n",
       "5       28\n",
       "      ... \n",
       "146      1\n",
       "172      1\n",
       "42       1\n",
       "41       1\n",
       "33       1\n",
       "Name: No of Sellers, Length: 61, dtype: int64"
      ]
     },
     "execution_count": 23,
     "metadata": {},
     "output_type": "execute_result"
    }
   ],
   "source": [
    "amazon['No of Sellers'].value_counts().sort_values(ascending=False)"
   ]
  },
  {
   "cell_type": "code",
   "execution_count": 24,
   "metadata": {},
   "outputs": [
    {
     "data": {
      "text/plain": [
       "array([  1,  27,  67,  32,   9,  63,  21,   6,  19,  51,  36,   2,  10,\n",
       "         3,  16,  37,   7,  15,   4,   5,  25,  17,  12,  14,   8,  23,\n",
       "        18,  77,  33,  11,  59, 172,  85,  43,  42,  56,  41, 214,  20,\n",
       "        13,  22, 146,  95,  60,  52,  49, 110,  29,  68,  53,  94,  50,\n",
       "        24,  55,  54, 108, 122,  83,  34,  45,  26])"
      ]
     },
     "execution_count": 24,
     "metadata": {},
     "output_type": "execute_result"
    }
   ],
   "source": [
    "amazon['No of Sellers'].unique()"
   ]
  },
  {
   "cell_type": "code",
   "execution_count": 25,
   "metadata": {
    "scrolled": false
   },
   "outputs": [
    {
     "data": {
      "image/png": "[encoded data removed]",
      "text/plain": [
       "<Figure size 720x360 with 1 Axes>"
      ]
     },
     "metadata": {
      "needs_background": "light"
     },
     "output_type": "display_data"
    }
   ],
   "source": [
    "plt.figure(figsize=(10,5))\n",
    "sns.histplot(amazon['No of Sellers'])\n",
    "plt.show()"
   ]
  },
  {
   "cell_type": "markdown",
   "metadata": {},
   "source": [
    "Very interesting to see that products sold by 1 seller make up the majority of the dataset"
   ]
  },
  {
   "cell_type": "markdown",
   "metadata": {},
   "source": [
    "# 1.3 Rank"
   ]
  },
  {
   "cell_type": "code",
   "execution_count": 47,
   "metadata": {},
   "outputs": [
    {
     "data": {
      "text/plain": [
       "75    8\n",
       "64    8\n",
       "71    8\n",
       "54    8\n",
       "96    8\n",
       "     ..\n",
       "84    6\n",
       "37    6\n",
       "3     6\n",
       "44    6\n",
       "22    5\n",
       "Name: Rank, Length: 100, dtype: int64"
      ]
     },
     "execution_count": 47,
     "metadata": {},
     "output_type": "execute_result"
    }
   ],
   "source": [
    "amazon['Rank'].value_counts().sort_values(ascending=False)"
   ]
  },
  {
   "cell_type": "code",
   "execution_count": 48,
   "metadata": {},
   "outputs": [
    {
     "data": {
      "text/plain": [
       "array([  1,   2,   3,   4,   5,   6,   7,   8,   9,  10,  12,  13,  14,\n",
       "        15,  16,  17,  18,  19,  20,  21,  22,  23,  24,  25,  26,  27,\n",
       "        28,  29,  30,  31,  32,  33,  34,  35,  36,  37,  38,  39,  40,\n",
       "        41,  42,  43,  44,  45,  46,  47,  48,  49,  50,  51,  52,  53,\n",
       "        54,  55,  56,  57,  58,  59,  60,  61,  62,  63,  64,  65,  66,\n",
       "        67,  68,  69,  70,  71,  72,  73,  74,  75,  76,  77,  78,  79,\n",
       "        80,  81,  82,  83,  85,  86,  87,  88,  89,  90,  91,  92,  93,\n",
       "        94,  95,  96,  97,  98,  99, 100,  11,  84])"
      ]
     },
     "execution_count": 48,
     "metadata": {},
     "output_type": "execute_result"
    }
   ],
   "source": [
    "amazon['Rank'].unique()"
   ]
  },
  {
   "cell_type": "code",
   "execution_count": 58,
   "metadata": {},
   "outputs": [
    {
     "data": {
      "image/png": "[encoded data removed]",
      "text/plain": [
       "<Figure size 720x360 with 1 Axes>"
      ]
     },
     "metadata": {
      "needs_background": "light"
     },
     "output_type": "display_data"
    }
   ],
   "source": [
    "plt.figure(figsize=(10,5))\n",
    "sns.histplot(amazon['Rank'],bins=10)\n",
    "plt.show()"
   ]
  },
  {
   "cell_type": "markdown",
   "metadata": {},
   "source": [
    "Comparatively every count of rank looking similar except the ranks 60 to 80 with a count of 75."
   ]
  },
  {
   "cell_type": "markdown",
   "metadata": {},
   "source": [
    "# 1.4 Rating"
   ]
  },
  {
   "cell_type": "code",
   "execution_count": 29,
   "metadata": {},
   "outputs": [
    {
     "data": {
      "text/plain": [
       "array([4.7, 4.8, 4.6, 4.5, 4.4, 4. , 4.9, 5. , 4.2, 4.3, 4.1, 3.5, 3.8,\n",
       "       3.3, 1.4, 3.9, 2.7, 3.6, 3.4])"
      ]
     },
     "execution_count": 29,
     "metadata": {},
     "output_type": "execute_result"
    }
   ],
   "source": [
    "amazon['Rating'].unique()"
   ]
  },
  {
   "cell_type": "code",
   "execution_count": 30,
   "metadata": {},
   "outputs": [
    {
     "data": {
      "image/png": "[encoded data removed]",
      "text/plain": [
       "<Figure size 720x360 with 1 Axes>"
      ]
     },
     "metadata": {
      "needs_background": "light"
     },
     "output_type": "display_data"
    },
    {
     "data": {
      "text/plain": [
       "4.8    167\n",
       "4.7    130\n",
       "4.6    104\n",
       "4.4     74\n",
       "4.5     71\n",
       "4.9     58\n",
       "4.3     40\n",
       "4.2     22\n",
       "4.1     12\n",
       "4.0     10\n",
       "5.0      6\n",
       "3.3      3\n",
       "3.8      3\n",
       "3.9      2\n",
       "3.6      1\n",
       "3.4      1\n",
       "1.4      1\n",
       "3.5      1\n",
       "2.7      1\n",
       "Name: Rating, dtype: int64"
      ]
     },
     "execution_count": 30,
     "metadata": {},
     "output_type": "execute_result"
    }
   ],
   "source": [
    "plt.figure(figsize=(10,5))\n",
    "sns.histplot(amazon['Rating'])\n",
    "plt.show()\n",
    "\n",
    "amazon['Rating'].value_counts().sort_values(ascending=False)"
   ]
  },
  {
   "cell_type": "markdown",
   "metadata": {},
   "source": [
    "The increase of rating in trend is between 4.0 and 4.8, but the stimulation is from 4.6 to 4.8. From the above, I can conclude that the rating of 4.8 has 167 counts with the highest position."
   ]
  },
  {
   "cell_type": "markdown",
   "metadata": {},
   "source": [
    "# 1.5 Reviews Count"
   ]
  },
  {
   "cell_type": "code",
   "execution_count": 61,
   "metadata": {
    "scrolled": false
   },
   "outputs": [
    {
     "data": {
      "image/png": "[encoded data removed]",
      "text/plain": [
       "<Figure size 1080x360 with 1 Axes>"
      ]
     },
     "metadata": {
      "needs_background": "light"
     },
     "output_type": "display_data"
    },
    {
     "data": {
      "text/plain": [
       "721690    39\n",
       "91384     11\n",
       "54100     11\n",
       "267821     7\n",
       "1228       6\n",
       "          ..\n",
       "3940       1\n",
       "4092       1\n",
       "5117       1\n",
       "434174     1\n",
       "4095       1\n",
       "Name: Reviews Count, Length: 546, dtype: int64"
      ]
     },
     "execution_count": 61,
     "metadata": {},
     "output_type": "execute_result"
    }
   ],
   "source": [
    "plt.figure(figsize=(15,5))\n",
    "sns.histplot(amazon['Reviews Count'],bins=800)\n",
    "plt.show()\n",
    "\n",
    "amazon['Reviews Count'].value_counts().sort_values(ascending=False)"
   ]
  },
  {
   "cell_type": "code",
   "execution_count": 66,
   "metadata": {},
   "outputs": [
    {
     "data": {
      "text/plain": [
       "count       707.000000\n",
       "mean      77005.942008\n",
       "std      178407.465321\n",
       "min           1.000000\n",
       "25%        5138.000000\n",
       "50%       18023.000000\n",
       "75%       49593.500000\n",
       "max      854114.000000\n",
       "Name: Reviews Count, dtype: float64"
      ]
     },
     "execution_count": 66,
     "metadata": {},
     "output_type": "execute_result"
    }
   ],
   "source": [
    "amazon['Reviews Count'].describe()"
   ]
  },
  {
   "cell_type": "markdown",
   "metadata": {},
   "source": [
    "The result showing that the Reviews Count has the maximum amount of count with 854114 which is starts from 1, hence we can consider the count means of 77005.94. as a proper value."
   ]
  },
  {
   "cell_type": "markdown",
   "metadata": {},
   "source": [
    "# 1.6 Price"
   ]
  },
  {
   "cell_type": "code",
   "execution_count": 71,
   "metadata": {
    "scrolled": false
   },
   "outputs": [
    {
     "data": {
      "image/png": "[encoded data removed]",
      "text/plain": [
       "<Figure size 1080x576 with 1 Axes>"
      ]
     },
     "metadata": {
      "needs_background": "light"
     },
     "output_type": "display_data"
    },
    {
     "data": {
      "text/plain": [
       "50.00     62\n",
       "25.00     26\n",
       "29.99     20\n",
       "19.99     16\n",
       "39.99     15\n",
       "          ..\n",
       "17.40      1\n",
       "808.29     1\n",
       "12.98      1\n",
       "2.95       1\n",
       "12.29      1\n",
       "Name: Price, Length: 287, dtype: int64"
      ]
     },
     "execution_count": 71,
     "metadata": {},
     "output_type": "execute_result"
    }
   ],
   "source": [
    "plt.figure(figsize=(15,8))\n",
    "sns.histplot(amazon['Price'],bins=800)\n",
    "plt.show()\n",
    "\n",
    "amazon['Price'].value_counts().sort_values(ascending=False)"
   ]
  },
  {
   "cell_type": "code",
   "execution_count": 67,
   "metadata": {
    "scrolled": true
   },
   "outputs": [
    {
     "data": {
      "text/plain": [
       "count    707.000000\n",
       "mean      55.686351\n",
       "std       88.580862\n",
       "min        0.880000\n",
       "25%       13.990000\n",
       "50%       25.990000\n",
       "75%       50.000000\n",
       "max      899.000000\n",
       "Name: Price, dtype: float64"
      ]
     },
     "execution_count": 67,
     "metadata": {},
     "output_type": "execute_result"
    }
   ],
   "source": [
    "amazon['Price'].describe()"
   ]
  },
  {
   "cell_type": "markdown",
   "metadata": {},
   "source": [
    "The histogram conveying that the minimum and maximum price of the product is 0.88 and 899 respectively with a mean value of 55.68. Most of the pricing has happened between 0 and 100."
   ]
  },
  {
   "cell_type": "markdown",
   "metadata": {},
   "source": [
    "# 1.7 Rating with Category"
   ]
  },
  {
   "cell_type": "code",
   "execution_count": 33,
   "metadata": {},
   "outputs": [
    {
     "data": {
      "image/png": "[encoded data removed]",
      "text/plain": [
       "<Figure size 1080x720 with 1 Axes>"
      ]
     },
     "metadata": {
      "needs_background": "light"
     },
     "output_type": "display_data"
    }
   ],
   "source": [
    "plt.figure(figsize=(15,10))\n",
    "sns.countplot(x=\"Rating\",hue=\"Category\",data=amazon)\n",
    "plt.xlabel(\"Rating\")\n",
    "plt.ylabel(\"Count\")\n",
    "plt.legend(loc=\"upper left\",labels=[\"Electronics\",\"Clothing, Shoes & Jewelry\",\"Gift Cards\",\"Camera & Photo\",\"Video Games\",\"Toys & Games\",\"Books\"])\n",
    "plt.show()"
   ]
  },
  {
   "cell_type": "markdown",
   "metadata": {},
   "source": [
    "The real stimulation of rating with the category begins from 4.0 and ends on 5.0. The count plot says that the rating has mostly happened in 4.8 with the best rating in the category of Gift cards."
   ]
  },
  {
   "cell_type": "markdown",
   "metadata": {},
   "source": [
    "# 1.8 Category with Reviews Count"
   ]
  },
  {
   "cell_type": "code",
   "execution_count": 72,
   "metadata": {},
   "outputs": [
    {
     "data": {
      "application/vnd.plotly.v1+json": {
       "config": {
        "plotlyServerURL": "https://plot.ly"
       },
       "data": [
        {
         "alignmentgroup": "True",
         "hovertemplate": "Category=%{x}<br>Reviews Count=%{y}<extra></extra>",
         "legendgroup": "",
         "marker": {
          "color": "#636efa",
          "pattern": {
           "shape": ""
          }
         },
         "name": "",
         "offsetgroup": "",
         "orientation": "v",
         "showlegend": false,
         "textposition": "auto",
         "type": "bar",
         "x": [
          0,
          0,
          0,
          0,
          0,
          0,
          0,
          0,
          0,
          0,
          0,
          0,
          0,
          0,
          0,
          0,
          0,
          0,
          0,
          0,
          0,
          0,
          0,
          0,
          0,
          0,
          0,
          0,
          0,
          0,
          0,
          0,
          0,
          0,
          0,
          0,
          0,
          0,
          0,
          0,
          0,
          0,
          0,
          0,
          0,
          0,
          0,
          0,
          0,
          0,
          0,
          0,
          0,
          0,
          0,
          0,
          0,
          0,
          0,
          0,
          0,
          0,
          0,
          0,
          0,
          0,
          0,
          0,
          0,
          0,
          0,
          0,
          0,
          0,
          0,
          0,
          0,
          0,
          0,
          0,
          0,
          0,
          0,
          0,
          0,
          0,
          0,
          0,
          0,
          0,
          0,
          0,
          0,
          0,
          0,
          0,
          0,
          0,
          0,
          0,
          0,
          0,
          0,
          0,
          0,
          0,
          0,
          0,
          0,
          0,
          0,
          0,
          0,
          0,
          0,
          0,
          0,
          0,
          0,
          0,
          0,
          0,
          0,
          0,
          0,
          0,
          0,
          0,
          0,
          0,
          0,
          0,
          0,
          0,
          0,
          0,
          0,
          0,
          0,
          0,
          0,
          0,
          0,
          0,
          0,
          0,
          0,
          1,
          1,
          1,
          1,
          1,
          1,
          1,
          1,
          1,
          1,
          1,
          1,
          1,
          1,
          1,
          1,
          1,
          1,
          1,
          1,
          1,
          1,
          1,
          1,
          1,
          1,
          1,
          1,
          1,
          1,
          1,
          1,
          1,
          1,
          1,
          1,
          1,
          1,
          1,
          1,
          1,
          1,
          1,
          1,
          1,
          1,
          1,
          1,
          1,
          1,
          1,
          1,
          1,
          1,
          1,
          1,
          1,
          1,
          1,
          1,
          1,
          1,
          1,
          1,
          1,
          1,
          1,
          1,
          1,
          1,
          1,
          1,
          1,
          1,
          1,
          1,
          1,
          1,
          1,
          1,
          1,
          1,
          1,
          1,
          1,
          1,
          1,
          1,
          1,
          1,
          1,
          1,
          1,
          1,
          1,
          1,
          1,
          1,
          1,
          1,
          2,
          2,
          2,
          2,
          2,
          2,
          2,
          2,
          2,
          2,
          2,
          2,
          2,
          2,
          2,
          2,
          2,
          2,
          2,
          2,
          2,
          2,
          2,
          2,
          2,
          2,
          2,
          2,
          2,
          2,
          2,
          2,
          2,
          2,
          2,
          2,
          2,
          2,
          2,
          2,
          2,
          2,
          2,
          2,
          2,
          2,
          2,
          2,
          2,
          2,
          2,
          2,
          2,
          2,
          2,
          2,
          2,
          2,
          2,
          2,
          2,
          2,
          2,
          2,
          2,
          2,
          2,
          2,
          2,
          2,
          2,
          2,
          2,
          2,
          2,
          2,
          2,
          2,
          2,
          2,
          2,
          2,
          2,
          2,
          2,
          2,
          2,
          2,
          2,
          2,
          2,
          2,
          2,
          2,
          2,
          2,
          2,
          2,
          2,
          2,
          3,
          3,
          3,
          3,
          3,
          3,
          3,
          3,
          3,
          3,
          3,
          3,
          3,
          3,
          3,
          3,
          3,
          3,
          3,
          3,
          3,
          3,
          3,
          3,
          3,
          3,
          3,
          3,
          3,
          3,
          3,
          3,
          3,
          3,
          3,
          3,
          3,
          3,
          3,
          3,
          3,
          3,
          3,
          3,
          3,
          3,
          3,
          3,
          3,
          3,
          3,
          3,
          3,
          3,
          3,
          3,
          3,
          3,
          3,
          3,
          3,
          3,
          3,
          3,
          3,
          3,
          3,
          3,
          3,
          3,
          4,
          4,
          4,
          4,
          4,
          4,
          4,
          4,
          4,
          4,
          4,
          4,
          4,
          4,
          4,
          4,
          4,
          4,
          4,
          4,
          4,
          4,
          4,
          4,
          4,
          4,
          4,
          4,
          4,
          4,
          4,
          4,
          4,
          4,
          4,
          4,
          4,
          4,
          4,
          4,
          4,
          4,
          4,
          4,
          4,
          4,
          4,
          4,
          4,
          4,
          4,
          4,
          4,
          4,
          4,
          4,
          4,
          4,
          4,
          4,
          4,
          4,
          4,
          4,
          4,
          4,
          4,
          4,
          4,
          4,
          4,
          4,
          4,
          4,
          4,
          4,
          4,
          4,
          4,
          4,
          4,
          4,
          4,
          4,
          4,
          4,
          4,
          4,
          4,
          4,
          4,
          4,
          4,
          4,
          4,
          5,
          5,
          5,
          5,
          5,
          5,
          5,
          5,
          5,
          5,
          5,
          5,
          5,
          5,
          5,
          5,
          5,
          5,
          5,
          5,
          5,
          5,
          5,
          5,
          5,
          5,
          5,
          5,
          5,
          5,
          5,
          5,
          5,
          5,
          5,
          5,
          5,
          5,
          5,
          5,
          5,
          5,
          5,
          5,
          5,
          5,
          5,
          5,
          5,
          5,
          5,
          5,
          5,
          5,
          5,
          5,
          5,
          5,
          5,
          5,
          5,
          5,
          5,
          5,
          5,
          5,
          5,
          5,
          5,
          5,
          5,
          5,
          5,
          5,
          5,
          5,
          5,
          5,
          5,
          5,
          5,
          5,
          5,
          5,
          5,
          5,
          5,
          5,
          5,
          5,
          5,
          5,
          5,
          5,
          5,
          5,
          5,
          5,
          5,
          5,
          6,
          6,
          6,
          6,
          6,
          6,
          6,
          6,
          6,
          6,
          6,
          6,
          6,
          6,
          6,
          6,
          6,
          6,
          6,
          6,
          6,
          6,
          6,
          6,
          6,
          6,
          6,
          6,
          6,
          6,
          6,
          6,
          6,
          6,
          6,
          6,
          6,
          6,
          6,
          6,
          6,
          6,
          6,
          6,
          6,
          6,
          6,
          6,
          6,
          6,
          6,
          6,
          6,
          6,
          6,
          6,
          6,
          6,
          6,
          6,
          6,
          6,
          6,
          6,
          6,
          6,
          6,
          6,
          6,
          6,
          6,
          6,
          6,
          6,
          6,
          6,
          6,
          6,
          6,
          6,
          6,
          6,
          6,
          6,
          6,
          6,
          6,
          6,
          6,
          6,
          6,
          6,
          6,
          6,
          6
         ],
         "xaxis": "x",
         "y": [
          640721,
          854114,
          267821,
          114267,
          267821,
          100278,
          111650,
          1228,
          85934,
          434174,
          83773,
          54100,
          267821,
          267821,
          395830,
          110685,
          116633,
          59785,
          854114,
          38016,
          100278,
          54100,
          32046,
          72839,
          54100,
          11503,
          23307,
          67379,
          61543,
          4207,
          44320,
          267821,
          42694,
          17175,
          54100,
          50866,
          83773,
          181205,
          54100,
          38743,
          83773,
          10691,
          1228,
          111650,
          110685,
          44087,
          727,
          17175,
          7116,
          4,
          5826,
          33856,
          193908,
          267821,
          1228,
          11084,
          222209,
          12973,
          5573,
          47546,
          21080,
          35,
          54100,
          395831,
          42694,
          54100,
          179,
          36144,
          100279,
          1450,
          314,
          95064,
          39828,
          179,
          3695,
          10583,
          4044,
          44087,
          1228,
          78639,
          54100,
          55688,
          1575,
          34176,
          17939,
          17011,
          35734,
          484,
          21563,
          43363,
          23209,
          39606,
          44087,
          23741,
          6599,
          21383,
          4617,
          9587,
          4,
          5826,
          33856,
          193908,
          267821,
          1228,
          11084,
          222209,
          12973,
          5573,
          47546,
          21080,
          35,
          54100,
          395831,
          42694,
          54100,
          179,
          36144,
          100279,
          1450,
          314,
          95064,
          39828,
          179,
          3695,
          10583,
          4044,
          44087,
          1228,
          78639,
          54100,
          55688,
          1575,
          34176,
          17939,
          17011,
          35734,
          484,
          21563,
          43363,
          23209,
          39606,
          44087,
          23741,
          6599,
          21383,
          4617,
          9587,
          53435,
          22,
          65780,
          44546,
          138451,
          88140,
          70500,
          43986,
          40632,
          23788,
          33701,
          35889,
          28178,
          73812,
          1302,
          80774,
          117129,
          12383,
          13577,
          7726,
          10022,
          28126,
          29552,
          17334,
          4358,
          26316,
          49613,
          58537,
          17965,
          59980,
          29734,
          20837,
          10400,
          8514,
          1741,
          59521,
          29937,
          12645,
          16151,
          5329,
          31392,
          23152,
          43976,
          32030,
          29598,
          30441,
          10664,
          66237,
          15669,
          72937,
          14223,
          12850,
          6059,
          64972,
          1837,
          23111,
          33474,
          38791,
          29802,
          9697,
          7435,
          50292,
          25674,
          12329,
          5819,
          29913,
          67431,
          20442,
          66914,
          9455,
          9106,
          23326,
          8231,
          33644,
          4107,
          41926,
          10610,
          5071,
          8269,
          37966,
          27054,
          28547,
          20739,
          6882,
          28079,
          5764,
          4943,
          7571,
          55550,
          19038,
          16854,
          12655,
          8719,
          5413,
          20014,
          4860,
          13177,
          12639,
          13828,
          16993,
          313938,
          721690,
          721690,
          721690,
          22185,
          74543,
          721690,
          91384,
          721690,
          721690,
          26102,
          25340,
          62352,
          50571,
          721690,
          721690,
          721690,
          9381,
          37588,
          721690,
          20874,
          721690,
          721690,
          91384,
          721690,
          91384,
          74543,
          2954,
          22185,
          721690,
          37588,
          8756,
          74543,
          721690,
          8636,
          721690,
          721690,
          91384,
          7247,
          62352,
          721690,
          721690,
          721689,
          9182,
          721690,
          13035,
          7493,
          721690,
          721690,
          12596,
          721690,
          91384,
          13035,
          721690,
          721690,
          721690,
          8274,
          721690,
          1269,
          721690,
          3098,
          91384,
          721690,
          721690,
          6803,
          721690,
          1703,
          721690,
          7128,
          4095,
          91384,
          12187,
          91384,
          721690,
          721689,
          91384,
          5827,
          22185,
          74543,
          721690,
          721690,
          62352,
          1389,
          19791,
          74543,
          50571,
          22665,
          721690,
          91384,
          52513,
          721689,
          2940,
          3490,
          721690,
          721690,
          7247,
          721690,
          721689,
          7247,
          91384,
          13455,
          14006,
          31470,
          3496,
          87929,
          46062,
          58903,
          18508,
          19083,
          35863,
          49824,
          26162,
          54885,
          136310,
          259,
          4596,
          54649,
          36207,
          2841,
          22706,
          60753,
          58947,
          514,
          15469,
          15626,
          12295,
          16058,
          79114,
          5,
          50802,
          51940,
          13745,
          7982,
          19616,
          4439,
          4741,
          1031,
          31056,
          23858,
          27317,
          21552,
          20547,
          47,
          28050,
          16,
          48822,
          40324,
          3393,
          19747,
          30688,
          52140,
          13533,
          8177,
          10714,
          52800,
          34571,
          39501,
          70597,
          655,
          16853,
          3,
          6176,
          23193,
          37649,
          6526,
          6449,
          250,
          128,
          4064,
          3271,
          232823,
          117579,
          67727,
          70218,
          7,
          70218,
          27808,
          117579,
          25811,
          15661,
          19793,
          66853,
          85834,
          1211,
          49200,
          11875,
          4170,
          70218,
          1577,
          49824,
          87346,
          7997,
          19869,
          9570,
          32411,
          49200,
          26641,
          16236,
          25811,
          3767,
          4564,
          15971,
          44591,
          3767,
          28843,
          84166,
          16510,
          279,
          26056,
          50233,
          25811,
          6551,
          1,
          8661,
          20316,
          4573,
          23945,
          26056,
          15661,
          23265,
          52003,
          41676,
          19478,
          15144,
          328,
          9297,
          19417,
          674,
          6453,
          3,
          182,
          26056,
          432,
          22066,
          19902,
          5875,
          4597,
          32015,
          25909,
          22209,
          6840,
          7596,
          490,
          18643,
          1320,
          16122,
          31063,
          269,
          28086,
          49574,
          13921,
          3470,
          7765,
          3177,
          67134,
          3913,
          10650,
          16558,
          1125,
          20621,
          829,
          66505,
          15971,
          16386,
          16562,
          111650,
          32046,
          67379,
          4,
          21080,
          12309,
          10403,
          8527,
          6118,
          3534,
          47254,
          22775,
          11314,
          6808,
          20546,
          10672,
          4895,
          8360,
          5203,
          433,
          5629,
          2524,
          607,
          3151,
          965,
          42047,
          3238,
          2924,
          4429,
          3940,
          3150,
          4245,
          22,
          7662,
          1076,
          2193,
          3662,
          3509,
          5059,
          10530,
          7699,
          178,
          4800,
          1311,
          935,
          272,
          3003,
          1045,
          3801,
          10280,
          4582,
          6306,
          1661,
          9810,
          422,
          439,
          6008,
          3013,
          860,
          12342,
          212,
          6646,
          14042,
          492,
          16340,
          1348,
          1116,
          790,
          5117,
          179,
          26,
          5070,
          1966,
          13,
          4092,
          1648,
          35,
          96,
          1221,
          1986,
          2317,
          5159,
          2622,
          3080,
          7628,
          874,
          3841,
          1595,
          3793,
          889,
          2408,
          1578,
          3218,
          5522,
          2939,
          6608,
          2246,
          241,
          2083,
          39,
          39882,
          5411,
          15839,
          46860,
          31328,
          55398,
          69971,
          5953,
          21200,
          17061,
          21781,
          31390,
          32246,
          28041,
          14551,
          11092,
          63879,
          15592,
          175,
          10521,
          45035,
          7731,
          22690,
          22792,
          20349,
          15178,
          2437,
          11947,
          17833,
          27490,
          10955,
          18023,
          45651,
          10895,
          6247,
          107829,
          1568,
          14213,
          38290,
          51496,
          3001,
          12137,
          3051,
          24685,
          1022,
          10342,
          19783,
          26961,
          5667,
          9296,
          9461,
          25091,
          5317,
          8734,
          15871,
          16477,
          33726,
          1353,
          21435,
          13958,
          25259,
          2320,
          346,
          1089,
          21241,
          17829,
          833,
          2918,
          2180,
          790,
          277,
          10140,
          8419,
          14713,
          2605,
          11833,
          3023,
          1824,
          25201,
          54,
          6156,
          20399,
          21603,
          28681,
          17537,
          22001,
          14866,
          1030,
          18647,
          22385,
          8795,
          649,
          9121,
          18449,
          12902
         ],
         "yaxis": "y"
        }
       ],
       "layout": {
        "barmode": "relative",
        "legend": {
         "tracegroupgap": 0
        },
        "margin": {
         "t": 60
        },
        "template": {
         "data": {
          "bar": [
           {
            "error_x": {
             "color": "#2a3f5f"
            },
            "error_y": {
             "color": "#2a3f5f"
            },
            "marker": {
             "line": {
              "color": "#E5ECF6",
              "width": 0.5
             },
             "pattern": {
              "fillmode": "overlay",
              "size": 10,
              "solidity": 0.2
             }
            },
            "type": "bar"
           }
          ],
          "barpolar": [
           {
            "marker": {
             "line": {
              "color": "#E5ECF6",
              "width": 0.5
             },
             "pattern": {
              "fillmode": "overlay",
              "size": 10,
              "solidity": 0.2
             }
            },
            "type": "barpolar"
           }
          ],
          "carpet": [
           {
            "aaxis": {
             "endlinecolor": "#2a3f5f",
             "gridcolor": "white",
             "linecolor": "white",
             "minorgridcolor": "white",
             "startlinecolor": "#2a3f5f"
            },
            "baxis": {
             "endlinecolor": "#2a3f5f",
             "gridcolor": "white",
             "linecolor": "white",
             "minorgridcolor": "white",
             "startlinecolor": "#2a3f5f"
            },
            "type": "carpet"
           }
          ],
          "choropleth": [
           {
            "colorbar": {
             "outlinewidth": 0,
             "ticks": ""
            },
            "type": "choropleth"
           }
          ],
          "contour": [
           {
            "colorbar": {
             "outlinewidth": 0,
             "ticks": ""
            },
            "colorscale": [
             [
              0,
              "#0d0887"
             ],
             [
              0.1111111111111111,
              "#46039f"
             ],
             [
              0.2222222222222222,
              "#7201a8"
             ],
             [
              0.3333333333333333,
              "#9c179e"
             ],
             [
              0.4444444444444444,
              "#bd3786"
             ],
             [
              0.5555555555555556,
              "#d8576b"
             ],
             [
              0.6666666666666666,
              "#ed7953"
             ],
             [
              0.7777777777777778,
              "#fb9f3a"
             ],
             [
              0.8888888888888888,
              "#fdca26"
             ],
             [
              1,
              "#f0f921"
             ]
            ],
            "type": "contour"
           }
          ],
          "contourcarpet": [
           {
            "colorbar": {
             "outlinewidth": 0,
             "ticks": ""
            },
            "type": "contourcarpet"
           }
          ],
          "heatmap": [
           {
            "colorbar": {
             "outlinewidth": 0,
             "ticks": ""
            },
            "colorscale": [
             [
              0,
              "#0d0887"
             ],
             [
              0.1111111111111111,
              "#46039f"
             ],
             [
              0.2222222222222222,
              "#7201a8"
             ],
             [
              0.3333333333333333,
              "#9c179e"
             ],
             [
              0.4444444444444444,
              "#bd3786"
             ],
             [
              0.5555555555555556,
              "#d8576b"
             ],
             [
              0.6666666666666666,
              "#ed7953"
             ],
             [
              0.7777777777777778,
              "#fb9f3a"
             ],
             [
              0.8888888888888888,
              "#fdca26"
             ],
             [
              1,
              "#f0f921"
             ]
            ],
            "type": "heatmap"
           }
          ],
          "heatmapgl": [
           {
            "colorbar": {
             "outlinewidth": 0,
             "ticks": ""
            },
            "colorscale": [
             [
              0,
              "#0d0887"
             ],
             [
              0.1111111111111111,
              "#46039f"
             ],
             [
              0.2222222222222222,
              "#7201a8"
             ],
             [
              0.3333333333333333,
              "#9c179e"
             ],
             [
              0.4444444444444444,
              "#bd3786"
             ],
             [
              0.5555555555555556,
              "#d8576b"
             ],
             [
              0.6666666666666666,
              "#ed7953"
             ],
             [
              0.7777777777777778,
              "#fb9f3a"
             ],
             [
              0.8888888888888888,
              "#fdca26"
             ],
             [
              1,
              "#f0f921"
             ]
            ],
            "type": "heatmapgl"
           }
          ],
          "histogram": [
           {
            "marker": {
             "pattern": {
              "fillmode": "overlay",
              "size": 10,
              "solidity": 0.2
             }
            },
            "type": "histogram"
           }
          ],
          "histogram2d": [
           {
            "colorbar": {
             "outlinewidth": 0,
             "ticks": ""
            },
            "colorscale": [
             [
              0,
              "#0d0887"
             ],
             [
              0.1111111111111111,
              "#46039f"
             ],
             [
              0.2222222222222222,
              "#7201a8"
             ],
             [
              0.3333333333333333,
              "#9c179e"
             ],
             [
              0.4444444444444444,
              "#bd3786"
             ],
             [
              0.5555555555555556,
              "#d8576b"
             ],
             [
              0.6666666666666666,
              "#ed7953"
             ],
             [
              0.7777777777777778,
              "#fb9f3a"
             ],
             [
              0.8888888888888888,
              "#fdca26"
             ],
             [
              1,
              "#f0f921"
             ]
            ],
            "type": "histogram2d"
           }
          ],
          "histogram2dcontour": [
           {
            "colorbar": {
             "outlinewidth": 0,
             "ticks": ""
            },
            "colorscale": [
             [
              0,
              "#0d0887"
             ],
             [
              0.1111111111111111,
              "#46039f"
             ],
             [
              0.2222222222222222,
              "#7201a8"
             ],
             [
              0.3333333333333333,
              "#9c179e"
             ],
             [
              0.4444444444444444,
              "#bd3786"
             ],
             [
              0.5555555555555556,
              "#d8576b"
             ],
             [
              0.6666666666666666,
              "#ed7953"
             ],
             [
              0.7777777777777778,
              "#fb9f3a"
             ],
             [
              0.8888888888888888,
              "#fdca26"
             ],
             [
              1,
              "#f0f921"
             ]
            ],
            "type": "histogram2dcontour"
           }
          ],
          "mesh3d": [
           {
            "colorbar": {
             "outlinewidth": 0,
             "ticks": ""
            },
            "type": "mesh3d"
           }
          ],
          "parcoords": [
           {
            "line": {
             "colorbar": {
              "outlinewidth": 0,
              "ticks": ""
             }
            },
            "type": "parcoords"
           }
          ],
          "pie": [
           {
            "automargin": true,
            "type": "pie"
           }
          ],
          "scatter": [
           {
            "marker": {
             "colorbar": {
              "outlinewidth": 0,
              "ticks": ""
             }
            },
            "type": "scatter"
           }
          ],
          "scatter3d": [
           {
            "line": {
             "colorbar": {
              "outlinewidth": 0,
              "ticks": ""
             }
            },
            "marker": {
             "colorbar": {
              "outlinewidth": 0,
              "ticks": ""
             }
            },
            "type": "scatter3d"
           }
          ],
          "scattercarpet": [
           {
            "marker": {
             "colorbar": {
              "outlinewidth": 0,
              "ticks": ""
             }
            },
            "type": "scattercarpet"
           }
          ],
          "scattergeo": [
           {
            "marker": {
             "colorbar": {
              "outlinewidth": 0,
              "ticks": ""
             }
            },
            "type": "scattergeo"
           }
          ],
          "scattergl": [
           {
            "marker": {
             "colorbar": {
              "outlinewidth": 0,
              "ticks": ""
             }
            },
            "type": "scattergl"
           }
          ],
          "scattermapbox": [
           {
            "marker": {
             "colorbar": {
              "outlinewidth": 0,
              "ticks": ""
             }
            },
            "type": "scattermapbox"
           }
          ],
          "scatterpolar": [
           {
            "marker": {
             "colorbar": {
              "outlinewidth": 0,
              "ticks": ""
             }
            },
            "type": "scatterpolar"
           }
          ],
          "scatterpolargl": [
           {
            "marker": {
             "colorbar": {
              "outlinewidth": 0,
              "ticks": ""
             }
            },
            "type": "scatterpolargl"
           }
          ],
          "scatterternary": [
           {
            "marker": {
             "colorbar": {
              "outlinewidth": 0,
              "ticks": ""
             }
            },
            "type": "scatterternary"
           }
          ],
          "surface": [
           {
            "colorbar": {
             "outlinewidth": 0,
             "ticks": ""
            },
            "colorscale": [
             [
              0,
              "#0d0887"
             ],
             [
              0.1111111111111111,
              "#46039f"
             ],
             [
              0.2222222222222222,
              "#7201a8"
             ],
             [
              0.3333333333333333,
              "#9c179e"
             ],
             [
              0.4444444444444444,
              "#bd3786"
             ],
             [
              0.5555555555555556,
              "#d8576b"
             ],
             [
              0.6666666666666666,
              "#ed7953"
             ],
             [
              0.7777777777777778,
              "#fb9f3a"
             ],
             [
              0.8888888888888888,
              "#fdca26"
             ],
             [
              1,
              "#f0f921"
             ]
            ],
            "type": "surface"
           }
          ],
          "table": [
           {
            "cells": {
             "fill": {
              "color": "#EBF0F8"
             },
             "line": {
              "color": "white"
             }
            },
            "header": {
             "fill": {
              "color": "#C8D4E3"
             },
             "line": {
              "color": "white"
             }
            },
            "type": "table"
           }
          ]
         },
         "layout": {
          "annotationdefaults": {
           "arrowcolor": "#2a3f5f",
           "arrowhead": 0,
           "arrowwidth": 1
          },
          "autotypenumbers": "strict",
          "coloraxis": {
           "colorbar": {
            "outlinewidth": 0,
            "ticks": ""
           }
          },
          "colorscale": {
           "diverging": [
            [
             0,
             "#8e0152"
            ],
            [
             0.1,
             "#c51b7d"
            ],
            [
             0.2,
             "#de77ae"
            ],
            [
             0.3,
             "#f1b6da"
            ],
            [
             0.4,
             "#fde0ef"
            ],
            [
             0.5,
             "#f7f7f7"
            ],
            [
             0.6,
             "#e6f5d0"
            ],
            [
             0.7,
             "#b8e186"
            ],
            [
             0.8,
             "#7fbc41"
            ],
            [
             0.9,
             "#4d9221"
            ],
            [
             1,
             "#276419"
            ]
           ],
           "sequential": [
            [
             0,
             "#0d0887"
            ],
            [
             0.1111111111111111,
             "#46039f"
            ],
            [
             0.2222222222222222,
             "#7201a8"
            ],
            [
             0.3333333333333333,
             "#9c179e"
            ],
            [
             0.4444444444444444,
             "#bd3786"
            ],
            [
             0.5555555555555556,
             "#d8576b"
            ],
            [
             0.6666666666666666,
             "#ed7953"
            ],
            [
             0.7777777777777778,
             "#fb9f3a"
            ],
            [
             0.8888888888888888,
             "#fdca26"
            ],
            [
             1,
             "#f0f921"
            ]
           ],
           "sequentialminus": [
            [
             0,
             "#0d0887"
            ],
            [
             0.1111111111111111,
             "#46039f"
            ],
            [
             0.2222222222222222,
             "#7201a8"
            ],
            [
             0.3333333333333333,
             "#9c179e"
            ],
            [
             0.4444444444444444,
             "#bd3786"
            ],
            [
             0.5555555555555556,
             "#d8576b"
            ],
            [
             0.6666666666666666,
             "#ed7953"
            ],
            [
             0.7777777777777778,
             "#fb9f3a"
            ],
            [
             0.8888888888888888,
             "#fdca26"
            ],
            [
             1,
             "#f0f921"
            ]
           ]
          },
          "colorway": [
           "#636efa",
           "#EF553B",
           "#00cc96",
           "#ab63fa",
           "#FFA15A",
           "#19d3f3",
           "#FF6692",
           "#B6E880",
           "#FF97FF",
           "#FECB52"
          ],
          "font": {
           "color": "#2a3f5f"
          },
          "geo": {
           "bgcolor": "white",
           "lakecolor": "white",
           "landcolor": "#E5ECF6",
           "showlakes": true,
           "showland": true,
           "subunitcolor": "white"
          },
          "hoverlabel": {
           "align": "left"
          },
          "hovermode": "closest",
          "mapbox": {
           "style": "light"
          },
          "paper_bgcolor": "white",
          "plot_bgcolor": "#E5ECF6",
          "polar": {
           "angularaxis": {
            "gridcolor": "white",
            "linecolor": "white",
            "ticks": ""
           },
           "bgcolor": "#E5ECF6",
           "radialaxis": {
            "gridcolor": "white",
            "linecolor": "white",
            "ticks": ""
           }
          },
          "scene": {
           "xaxis": {
            "backgroundcolor": "#E5ECF6",
            "gridcolor": "white",
            "gridwidth": 2,
            "linecolor": "white",
            "showbackground": true,
            "ticks": "",
            "zerolinecolor": "white"
           },
           "yaxis": {
            "backgroundcolor": "#E5ECF6",
            "gridcolor": "white",
            "gridwidth": 2,
            "linecolor": "white",
            "showbackground": true,
            "ticks": "",
            "zerolinecolor": "white"
           },
           "zaxis": {
            "backgroundcolor": "#E5ECF6",
            "gridcolor": "white",
            "gridwidth": 2,
            "linecolor": "white",
            "showbackground": true,
            "ticks": "",
            "zerolinecolor": "white"
           }
          },
          "shapedefaults": {
           "line": {
            "color": "#2a3f5f"
           }
          },
          "ternary": {
           "aaxis": {
            "gridcolor": "white",
            "linecolor": "white",
            "ticks": ""
           },
           "baxis": {
            "gridcolor": "white",
            "linecolor": "white",
            "ticks": ""
           },
           "bgcolor": "#E5ECF6",
           "caxis": {
            "gridcolor": "white",
            "linecolor": "white",
            "ticks": ""
           }
          },
          "title": {
           "x": 0.05
          },
          "xaxis": {
           "automargin": true,
           "gridcolor": "white",
           "linecolor": "white",
           "ticks": "",
           "title": {
            "standoff": 15
           },
           "zerolinecolor": "white",
           "zerolinewidth": 2
          },
          "yaxis": {
           "automargin": true,
           "gridcolor": "white",
           "linecolor": "white",
           "ticks": "",
           "title": {
            "standoff": 15
           },
           "zerolinecolor": "white",
           "zerolinewidth": 2
          }
         }
        },
        "xaxis": {
         "anchor": "y",
         "domain": [
          0,
          1
         ],
         "title": {
          "text": "Category"
         }
        },
        "yaxis": {
         "anchor": "x",
         "domain": [
          0,
          1
         ],
         "title": {
          "text": "Reviews Count"
         }
        }
       }
      },
      "text/html": [
       "<div>                            <div id=\"869a01f5-8dfe-4eaf-9a58-fd8a0c45fb2e\" class=\"plotly-graph-div\" style=\"height:525px; width:100%;\"></div>            <script type=\"text/javascript\">                require([\"plotly\"], function(Plotly) {                    window.PLOTLYENV=window.PLOTLYENV || {};                                    if (document.getElementById(\"869a01f5-8dfe-4eaf-9a58-fd8a0c45fb2e\")) {                    Plotly.newPlot(                        \"869a01f5-8dfe-4eaf-9a58-fd8a0c45fb2e\",                        [{\"alignmentgroup\":\"True\",\"hovertemplate\":\"Category=%{x}<br>Reviews Count=%{y}<extra></extra>\",\"legendgroup\":\"\",\"marker\":{\"color\":\"#636efa\",\"pattern\":{\"shape\":\"\"}},\"name\":\"\",\"offsetgroup\":\"\",\"orientation\":\"v\",\"showlegend\":false,\"textposition\":\"auto\",\"type\":\"bar\",\"x\":[0,0,0,0,0,0,0,0,0,0,0,0,0,0,0,0,0,0,0,0,0,0,0,0,0,0,0,0,0,0,0,0,0,0,0,0,0,0,0,0,0,0,0,0,0,0,0,0,0,0,0,0,0,0,0,0,0,0,0,0,0,0,0,0,0,0,0,0,0,0,0,0,0,0,0,0,0,0,0,0,0,0,0,0,0,0,0,0,0,0,0,0,0,0,0,0,0,0,0,0,0,0,0,0,0,0,0,0,0,0,0,0,0,0,0,0,0,0,0,0,0,0,0,0,0,0,0,0,0,0,0,0,0,0,0,0,0,0,0,0,0,0,0,0,0,0,0,1,1,1,1,1,1,1,1,1,1,1,1,1,1,1,1,1,1,1,1,1,1,1,1,1,1,1,1,1,1,1,1,1,1,1,1,1,1,1,1,1,1,1,1,1,1,1,1,1,1,1,1,1,1,1,1,1,1,1,1,1,1,1,1,1,1,1,1,1,1,1,1,1,1,1,1,1,1,1,1,1,1,1,1,1,1,1,1,1,1,1,1,1,1,1,1,1,1,1,1,2,2,2,2,2,2,2,2,2,2,2,2,2,2,2,2,2,2,2,2,2,2,2,2,2,2,2,2,2,2,2,2,2,2,2,2,2,2,2,2,2,2,2,2,2,2,2,2,2,2,2,2,2,2,2,2,2,2,2,2,2,2,2,2,2,2,2,2,2,2,2,2,2,2,2,2,2,2,2,2,2,2,2,2,2,2,2,2,2,2,2,2,2,2,2,2,2,2,2,2,3,3,3,3,3,3,3,3,3,3,3,3,3,3,3,3,3,3,3,3,3,3,3,3,3,3,3,3,3,3,3,3,3,3,3,3,3,3,3,3,3,3,3,3,3,3,3,3,3,3,3,3,3,3,3,3,3,3,3,3,3,3,3,3,3,3,3,3,3,3,4,4,4,4,4,4,4,4,4,4,4,4,4,4,4,4,4,4,4,4,4,4,4,4,4,4,4,4,4,4,4,4,4,4,4,4,4,4,4,4,4,4,4,4,4,4,4,4,4,4,4,4,4,4,4,4,4,4,4,4,4,4,4,4,4,4,4,4,4,4,4,4,4,4,4,4,4,4,4,4,4,4,4,4,4,4,4,4,4,4,4,4,4,4,4,5,5,5,5,5,5,5,5,5,5,5,5,5,5,5,5,5,5,5,5,5,5,5,5,5,5,5,5,5,5,5,5,5,5,5,5,5,5,5,5,5,5,5,5,5,5,5,5,5,5,5,5,5,5,5,5,5,5,5,5,5,5,5,5,5,5,5,5,5,5,5,5,5,5,5,5,5,5,5,5,5,5,5,5,5,5,5,5,5,5,5,5,5,5,5,5,5,5,5,5,6,6,6,6,6,6,6,6,6,6,6,6,6,6,6,6,6,6,6,6,6,6,6,6,6,6,6,6,6,6,6,6,6,6,6,6,6,6,6,6,6,6,6,6,6,6,6,6,6,6,6,6,6,6,6,6,6,6,6,6,6,6,6,6,6,6,6,6,6,6,6,6,6,6,6,6,6,6,6,6,6,6,6,6,6,6,6,6,6,6,6,6,6,6,6],\"xaxis\":\"x\",\"y\":[640721,854114,267821,114267,267821,100278,111650,1228,85934,434174,83773,54100,267821,267821,395830,110685,116633,59785,854114,38016,100278,54100,32046,72839,54100,11503,23307,67379,61543,4207,44320,267821,42694,17175,54100,50866,83773,181205,54100,38743,83773,10691,1228,111650,110685,44087,727,17175,7116,4,5826,33856,193908,267821,1228,11084,222209,12973,5573,47546,21080,35,54100,395831,42694,54100,179,36144,100279,1450,314,95064,39828,179,3695,10583,4044,44087,1228,78639,54100,55688,1575,34176,17939,17011,35734,484,21563,43363,23209,39606,44087,23741,6599,21383,4617,9587,4,5826,33856,193908,267821,1228,11084,222209,12973,5573,47546,21080,35,54100,395831,42694,54100,179,36144,100279,1450,314,95064,39828,179,3695,10583,4044,44087,1228,78639,54100,55688,1575,34176,17939,17011,35734,484,21563,43363,23209,39606,44087,23741,6599,21383,4617,9587,53435,22,65780,44546,138451,88140,70500,43986,40632,23788,33701,35889,28178,73812,1302,80774,117129,12383,13577,7726,10022,28126,29552,17334,4358,26316,49613,58537,17965,59980,29734,20837,10400,8514,1741,59521,29937,12645,16151,5329,31392,23152,43976,32030,29598,30441,10664,66237,15669,72937,14223,12850,6059,64972,1837,23111,33474,38791,29802,9697,7435,50292,25674,12329,5819,29913,67431,20442,66914,9455,9106,23326,8231,33644,4107,41926,10610,5071,8269,37966,27054,28547,20739,6882,28079,5764,4943,7571,55550,19038,16854,12655,8719,5413,20014,4860,13177,12639,13828,16993,313938,721690,721690,721690,22185,74543,721690,91384,721690,721690,26102,25340,62352,50571,721690,721690,721690,9381,37588,721690,20874,721690,721690,91384,721690,91384,74543,2954,22185,721690,37588,8756,74543,721690,8636,721690,721690,91384,7247,62352,721690,721690,721689,9182,721690,13035,7493,721690,721690,12596,721690,91384,13035,721690,721690,721690,8274,721690,1269,721690,3098,91384,721690,721690,6803,721690,1703,721690,7128,4095,91384,12187,91384,721690,721689,91384,5827,22185,74543,721690,721690,62352,1389,19791,74543,50571,22665,721690,91384,52513,721689,2940,3490,721690,721690,7247,721690,721689,7247,91384,13455,14006,31470,3496,87929,46062,58903,18508,19083,35863,49824,26162,54885,136310,259,4596,54649,36207,2841,22706,60753,58947,514,15469,15626,12295,16058,79114,5,50802,51940,13745,7982,19616,4439,4741,1031,31056,23858,27317,21552,20547,47,28050,16,48822,40324,3393,19747,30688,52140,13533,8177,10714,52800,34571,39501,70597,655,16853,3,6176,23193,37649,6526,6449,250,128,4064,3271,232823,117579,67727,70218,7,70218,27808,117579,25811,15661,19793,66853,85834,1211,49200,11875,4170,70218,1577,49824,87346,7997,19869,9570,32411,49200,26641,16236,25811,3767,4564,15971,44591,3767,28843,84166,16510,279,26056,50233,25811,6551,1,8661,20316,4573,23945,26056,15661,23265,52003,41676,19478,15144,328,9297,19417,674,6453,3,182,26056,432,22066,19902,5875,4597,32015,25909,22209,6840,7596,490,18643,1320,16122,31063,269,28086,49574,13921,3470,7765,3177,67134,3913,10650,16558,1125,20621,829,66505,15971,16386,16562,111650,32046,67379,4,21080,12309,10403,8527,6118,3534,47254,22775,11314,6808,20546,10672,4895,8360,5203,433,5629,2524,607,3151,965,42047,3238,2924,4429,3940,3150,4245,22,7662,1076,2193,3662,3509,5059,10530,7699,178,4800,1311,935,272,3003,1045,3801,10280,4582,6306,1661,9810,422,439,6008,3013,860,12342,212,6646,14042,492,16340,1348,1116,790,5117,179,26,5070,1966,13,4092,1648,35,96,1221,1986,2317,5159,2622,3080,7628,874,3841,1595,3793,889,2408,1578,3218,5522,2939,6608,2246,241,2083,39,39882,5411,15839,46860,31328,55398,69971,5953,21200,17061,21781,31390,32246,28041,14551,11092,63879,15592,175,10521,45035,7731,22690,22792,20349,15178,2437,11947,17833,27490,10955,18023,45651,10895,6247,107829,1568,14213,38290,51496,3001,12137,3051,24685,1022,10342,19783,26961,5667,9296,9461,25091,5317,8734,15871,16477,33726,1353,21435,13958,25259,2320,346,1089,21241,17829,833,2918,2180,790,277,10140,8419,14713,2605,11833,3023,1824,25201,54,6156,20399,21603,28681,17537,22001,14866,1030,18647,22385,8795,649,9121,18449,12902],\"yaxis\":\"y\"}],                        {\"barmode\":\"relative\",\"legend\":{\"tracegroupgap\":0},\"margin\":{\"t\":60},\"template\":{\"data\":{\"bar\":[{\"error_x\":{\"color\":\"#2a3f5f\"},\"error_y\":{\"color\":\"#2a3f5f\"},\"marker\":{\"line\":{\"color\":\"#E5ECF6\",\"width\":0.5},\"pattern\":{\"fillmode\":\"overlay\",\"size\":10,\"solidity\":0.2}},\"type\":\"bar\"}],\"barpolar\":[{\"marker\":{\"line\":{\"color\":\"#E5ECF6\",\"width\":0.5},\"pattern\":{\"fillmode\":\"overlay\",\"size\":10,\"solidity\":0.2}},\"type\":\"barpolar\"}],\"carpet\":[{\"aaxis\":{\"endlinecolor\":\"#2a3f5f\",\"gridcolor\":\"white\",\"linecolor\":\"white\",\"minorgridcolor\":\"white\",\"startlinecolor\":\"#2a3f5f\"},\"baxis\":{\"endlinecolor\":\"#2a3f5f\",\"gridcolor\":\"white\",\"linecolor\":\"white\",\"minorgridcolor\":\"white\",\"startlinecolor\":\"#2a3f5f\"},\"type\":\"carpet\"}],\"choropleth\":[{\"colorbar\":{\"outlinewidth\":0,\"ticks\":\"\"},\"type\":\"choropleth\"}],\"contour\":[{\"colorbar\":{\"outlinewidth\":0,\"ticks\":\"\"},\"colorscale\":[[0.0,\"#0d0887\"],[0.1111111111111111,\"#46039f\"],[0.2222222222222222,\"#7201a8\"],[0.3333333333333333,\"#9c179e\"],[0.4444444444444444,\"#bd3786\"],[0.5555555555555556,\"#d8576b\"],[0.6666666666666666,\"#ed7953\"],[0.7777777777777778,\"#fb9f3a\"],[0.8888888888888888,\"#fdca26\"],[1.0,\"#f0f921\"]],\"type\":\"contour\"}],\"contourcarpet\":[{\"colorbar\":{\"outlinewidth\":0,\"ticks\":\"\"},\"type\":\"contourcarpet\"}],\"heatmap\":[{\"colorbar\":{\"outlinewidth\":0,\"ticks\":\"\"},\"colorscale\":[[0.0,\"#0d0887\"],[0.1111111111111111,\"#46039f\"],[0.2222222222222222,\"#7201a8\"],[0.3333333333333333,\"#9c179e\"],[0.4444444444444444,\"#bd3786\"],[0.5555555555555556,\"#d8576b\"],[0.6666666666666666,\"#ed7953\"],[0.7777777777777778,\"#fb9f3a\"],[0.8888888888888888,\"#fdca26\"],[1.0,\"#f0f921\"]],\"type\":\"heatmap\"}],\"heatmapgl\":[{\"colorbar\":{\"outlinewidth\":0,\"ticks\":\"\"},\"colorscale\":[[0.0,\"#0d0887\"],[0.1111111111111111,\"#46039f\"],[0.2222222222222222,\"#7201a8\"],[0.3333333333333333,\"#9c179e\"],[0.4444444444444444,\"#bd3786\"],[0.5555555555555556,\"#d8576b\"],[0.6666666666666666,\"#ed7953\"],[0.7777777777777778,\"#fb9f3a\"],[0.8888888888888888,\"#fdca26\"],[1.0,\"#f0f921\"]],\"type\":\"heatmapgl\"}],\"histogram\":[{\"marker\":{\"pattern\":{\"fillmode\":\"overlay\",\"size\":10,\"solidity\":0.2}},\"type\":\"histogram\"}],\"histogram2d\":[{\"colorbar\":{\"outlinewidth\":0,\"ticks\":\"\"},\"colorscale\":[[0.0,\"#0d0887\"],[0.1111111111111111,\"#46039f\"],[0.2222222222222222,\"#7201a8\"],[0.3333333333333333,\"#9c179e\"],[0.4444444444444444,\"#bd3786\"],[0.5555555555555556,\"#d8576b\"],[0.6666666666666666,\"#ed7953\"],[0.7777777777777778,\"#fb9f3a\"],[0.8888888888888888,\"#fdca26\"],[1.0,\"#f0f921\"]],\"type\":\"histogram2d\"}],\"histogram2dcontour\":[{\"colorbar\":{\"outlinewidth\":0,\"ticks\":\"\"},\"colorscale\":[[0.0,\"#0d0887\"],[0.1111111111111111,\"#46039f\"],[0.2222222222222222,\"#7201a8\"],[0.3333333333333333,\"#9c179e\"],[0.4444444444444444,\"#bd3786\"],[0.5555555555555556,\"#d8576b\"],[0.6666666666666666,\"#ed7953\"],[0.7777777777777778,\"#fb9f3a\"],[0.8888888888888888,\"#fdca26\"],[1.0,\"#f0f921\"]],\"type\":\"histogram2dcontour\"}],\"mesh3d\":[{\"colorbar\":{\"outlinewidth\":0,\"ticks\":\"\"},\"type\":\"mesh3d\"}],\"parcoords\":[{\"line\":{\"colorbar\":{\"outlinewidth\":0,\"ticks\":\"\"}},\"type\":\"parcoords\"}],\"pie\":[{\"automargin\":true,\"type\":\"pie\"}],\"scatter\":[{\"marker\":{\"colorbar\":{\"outlinewidth\":0,\"ticks\":\"\"}},\"type\":\"scatter\"}],\"scatter3d\":[{\"line\":{\"colorbar\":{\"outlinewidth\":0,\"ticks\":\"\"}},\"marker\":{\"colorbar\":{\"outlinewidth\":0,\"ticks\":\"\"}},\"type\":\"scatter3d\"}],\"scattercarpet\":[{\"marker\":{\"colorbar\":{\"outlinewidth\":0,\"ticks\":\"\"}},\"type\":\"scattercarpet\"}],\"scattergeo\":[{\"marker\":{\"colorbar\":{\"outlinewidth\":0,\"ticks\":\"\"}},\"type\":\"scattergeo\"}],\"scattergl\":[{\"marker\":{\"colorbar\":{\"outlinewidth\":0,\"ticks\":\"\"}},\"type\":\"scattergl\"}],\"scattermapbox\":[{\"marker\":{\"colorbar\":{\"outlinewidth\":0,\"ticks\":\"\"}},\"type\":\"scattermapbox\"}],\"scatterpolar\":[{\"marker\":{\"colorbar\":{\"outlinewidth\":0,\"ticks\":\"\"}},\"type\":\"scatterpolar\"}],\"scatterpolargl\":[{\"marker\":{\"colorbar\":{\"outlinewidth\":0,\"ticks\":\"\"}},\"type\":\"scatterpolargl\"}],\"scatterternary\":[{\"marker\":{\"colorbar\":{\"outlinewidth\":0,\"ticks\":\"\"}},\"type\":\"scatterternary\"}],\"surface\":[{\"colorbar\":{\"outlinewidth\":0,\"ticks\":\"\"},\"colorscale\":[[0.0,\"#0d0887\"],[0.1111111111111111,\"#46039f\"],[0.2222222222222222,\"#7201a8\"],[0.3333333333333333,\"#9c179e\"],[0.4444444444444444,\"#bd3786\"],[0.5555555555555556,\"#d8576b\"],[0.6666666666666666,\"#ed7953\"],[0.7777777777777778,\"#fb9f3a\"],[0.8888888888888888,\"#fdca26\"],[1.0,\"#f0f921\"]],\"type\":\"surface\"}],\"table\":[{\"cells\":{\"fill\":{\"color\":\"#EBF0F8\"},\"line\":{\"color\":\"white\"}},\"header\":{\"fill\":{\"color\":\"#C8D4E3\"},\"line\":{\"color\":\"white\"}},\"type\":\"table\"}]},\"layout\":{\"annotationdefaults\":{\"arrowcolor\":\"#2a3f5f\",\"arrowhead\":0,\"arrowwidth\":1},\"autotypenumbers\":\"strict\",\"coloraxis\":{\"colorbar\":{\"outlinewidth\":0,\"ticks\":\"\"}},\"colorscale\":{\"diverging\":[[0,\"#8e0152\"],[0.1,\"#c51b7d\"],[0.2,\"#de77ae\"],[0.3,\"#f1b6da\"],[0.4,\"#fde0ef\"],[0.5,\"#f7f7f7\"],[0.6,\"#e6f5d0\"],[0.7,\"#b8e186\"],[0.8,\"#7fbc41\"],[0.9,\"#4d9221\"],[1,\"#276419\"]],\"sequential\":[[0.0,\"#0d0887\"],[0.1111111111111111,\"#46039f\"],[0.2222222222222222,\"#7201a8\"],[0.3333333333333333,\"#9c179e\"],[0.4444444444444444,\"#bd3786\"],[0.5555555555555556,\"#d8576b\"],[0.6666666666666666,\"#ed7953\"],[0.7777777777777778,\"#fb9f3a\"],[0.8888888888888888,\"#fdca26\"],[1.0,\"#f0f921\"]],\"sequentialminus\":[[0.0,\"#0d0887\"],[0.1111111111111111,\"#46039f\"],[0.2222222222222222,\"#7201a8\"],[0.3333333333333333,\"#9c179e\"],[0.4444444444444444,\"#bd3786\"],[0.5555555555555556,\"#d8576b\"],[0.6666666666666666,\"#ed7953\"],[0.7777777777777778,\"#fb9f3a\"],[0.8888888888888888,\"#fdca26\"],[1.0,\"#f0f921\"]]},\"colorway\":[\"#636efa\",\"#EF553B\",\"#00cc96\",\"#ab63fa\",\"#FFA15A\",\"#19d3f3\",\"#FF6692\",\"#B6E880\",\"#FF97FF\",\"#FECB52\"],\"font\":{\"color\":\"#2a3f5f\"},\"geo\":{\"bgcolor\":\"white\",\"lakecolor\":\"white\",\"landcolor\":\"#E5ECF6\",\"showlakes\":true,\"showland\":true,\"subunitcolor\":\"white\"},\"hoverlabel\":{\"align\":\"left\"},\"hovermode\":\"closest\",\"mapbox\":{\"style\":\"light\"},\"paper_bgcolor\":\"white\",\"plot_bgcolor\":\"#E5ECF6\",\"polar\":{\"angularaxis\":{\"gridcolor\":\"white\",\"linecolor\":\"white\",\"ticks\":\"\"},\"bgcolor\":\"#E5ECF6\",\"radialaxis\":{\"gridcolor\":\"white\",\"linecolor\":\"white\",\"ticks\":\"\"}},\"scene\":{\"xaxis\":{\"backgroundcolor\":\"#E5ECF6\",\"gridcolor\":\"white\",\"gridwidth\":2,\"linecolor\":\"white\",\"showbackground\":true,\"ticks\":\"\",\"zerolinecolor\":\"white\"},\"yaxis\":{\"backgroundcolor\":\"#E5ECF6\",\"gridcolor\":\"white\",\"gridwidth\":2,\"linecolor\":\"white\",\"showbackground\":true,\"ticks\":\"\",\"zerolinecolor\":\"white\"},\"zaxis\":{\"backgroundcolor\":\"#E5ECF6\",\"gridcolor\":\"white\",\"gridwidth\":2,\"linecolor\":\"white\",\"showbackground\":true,\"ticks\":\"\",\"zerolinecolor\":\"white\"}},\"shapedefaults\":{\"line\":{\"color\":\"#2a3f5f\"}},\"ternary\":{\"aaxis\":{\"gridcolor\":\"white\",\"linecolor\":\"white\",\"ticks\":\"\"},\"baxis\":{\"gridcolor\":\"white\",\"linecolor\":\"white\",\"ticks\":\"\"},\"bgcolor\":\"#E5ECF6\",\"caxis\":{\"gridcolor\":\"white\",\"linecolor\":\"white\",\"ticks\":\"\"}},\"title\":{\"x\":0.05},\"xaxis\":{\"automargin\":true,\"gridcolor\":\"white\",\"linecolor\":\"white\",\"ticks\":\"\",\"title\":{\"standoff\":15},\"zerolinecolor\":\"white\",\"zerolinewidth\":2},\"yaxis\":{\"automargin\":true,\"gridcolor\":\"white\",\"linecolor\":\"white\",\"ticks\":\"\",\"title\":{\"standoff\":15},\"zerolinecolor\":\"white\",\"zerolinewidth\":2}}},\"xaxis\":{\"anchor\":\"y\",\"domain\":[0.0,1.0],\"title\":{\"text\":\"Category\"}},\"yaxis\":{\"anchor\":\"x\",\"domain\":[0.0,1.0],\"title\":{\"text\":\"Reviews Count\"}}},                        {\"responsive\": true}                    ).then(function(){\n",
       "                            \n",
       "var gd = document.getElementById('869a01f5-8dfe-4eaf-9a58-fd8a0c45fb2e');\n",
       "var x = new MutationObserver(function (mutations, observer) {{\n",
       "        var display = window.getComputedStyle(gd).display;\n",
       "        if (!display || display === 'none') {{\n",
       "            console.log([gd, 'removed!']);\n",
       "            Plotly.purge(gd);\n",
       "            observer.disconnect();\n",
       "        }}\n",
       "}});\n",
       "\n",
       "// Listen for the removal of the full notebook cells\n",
       "var notebookContainer = gd.closest('#notebook-container');\n",
       "if (notebookContainer) {{\n",
       "    x.observe(notebookContainer, {childList: true});\n",
       "}}\n",
       "\n",
       "// Listen for the clearing of the current output cell\n",
       "var outputEl = gd.closest('.output');\n",
       "if (outputEl) {{\n",
       "    x.observe(outputEl, {childList: true});\n",
       "}}\n",
       "\n",
       "                        })                };                });            </script>        </div>"
      ]
     },
     "metadata": {},
     "output_type": "display_data"
    }
   ],
   "source": [
    "px.bar(y='Reviews Count', x='Category', data_frame=amazon)"
   ]
  },
  {
   "cell_type": "markdown",
   "metadata": {},
   "source": [
    "{'Electronics':0, 'Clothing, Shoes & Jewelry':1, 'Gift Cards':2, 'Books':3,'Video Games':4, 'Camera & Photo':5, 'Toys & Games':6}"
   ]
  },
  {
   "cell_type": "markdown",
   "metadata": {},
   "source": [
    "From the bar plot, we can see that the category with Gift cards has more reviews count compared to others."
   ]
  },
  {
   "cell_type": "markdown",
   "metadata": {},
   "source": [
    "# 2.1 Correlation Plot"
   ]
  },
  {
   "cell_type": "code",
   "execution_count": 36,
   "metadata": {},
   "outputs": [
    {
     "data": {
      "text/html": [
       "<div>\n",
       "<style scoped>\n",
       "    .dataframe tbody tr th:only-of-type {\n",
       "        vertical-align: middle;\n",
       "    }\n",
       "\n",
       "    .dataframe tbody tr th {\n",
       "        vertical-align: top;\n",
       "    }\n",
       "\n",
       "    .dataframe thead th {\n",
       "        text-align: right;\n",
       "    }\n",
       "</style>\n",
       "<table border=\"1\" class=\"dataframe\">\n",
       "  <thead>\n",
       "    <tr style=\"text-align: right;\">\n",
       "      <th></th>\n",
       "      <th>Category</th>\n",
       "      <th>No of Sellers</th>\n",
       "      <th>Rank</th>\n",
       "      <th>Rating</th>\n",
       "      <th>Reviews Count</th>\n",
       "      <th>Price</th>\n",
       "    </tr>\n",
       "  </thead>\n",
       "  <tbody>\n",
       "    <tr>\n",
       "      <th>Category</th>\n",
       "      <td>1.000000</td>\n",
       "      <td>0.165406</td>\n",
       "      <td>-0.083368</td>\n",
       "      <td>-0.099692</td>\n",
       "      <td>-0.194775</td>\n",
       "      <td>-0.287085</td>\n",
       "    </tr>\n",
       "    <tr>\n",
       "      <th>No of Sellers</th>\n",
       "      <td>0.165406</td>\n",
       "      <td>1.000000</td>\n",
       "      <td>0.003025</td>\n",
       "      <td>0.107523</td>\n",
       "      <td>-0.097749</td>\n",
       "      <td>0.125485</td>\n",
       "    </tr>\n",
       "    <tr>\n",
       "      <th>Rank</th>\n",
       "      <td>-0.083368</td>\n",
       "      <td>0.003025</td>\n",
       "      <td>1.000000</td>\n",
       "      <td>-0.040416</td>\n",
       "      <td>-0.119950</td>\n",
       "      <td>0.121938</td>\n",
       "    </tr>\n",
       "    <tr>\n",
       "      <th>Rating</th>\n",
       "      <td>-0.099692</td>\n",
       "      <td>0.107523</td>\n",
       "      <td>-0.040416</td>\n",
       "      <td>1.000000</td>\n",
       "      <td>0.218048</td>\n",
       "      <td>0.026729</td>\n",
       "    </tr>\n",
       "    <tr>\n",
       "      <th>Reviews Count</th>\n",
       "      <td>-0.194775</td>\n",
       "      <td>-0.097749</td>\n",
       "      <td>-0.119950</td>\n",
       "      <td>0.218048</td>\n",
       "      <td>1.000000</td>\n",
       "      <td>-0.020218</td>\n",
       "    </tr>\n",
       "    <tr>\n",
       "      <th>Price</th>\n",
       "      <td>-0.287085</td>\n",
       "      <td>0.125485</td>\n",
       "      <td>0.121938</td>\n",
       "      <td>0.026729</td>\n",
       "      <td>-0.020218</td>\n",
       "      <td>1.000000</td>\n",
       "    </tr>\n",
       "  </tbody>\n",
       "</table>\n",
       "</div>"
      ],
      "text/plain": [
       "               Category  No of Sellers      Rank    Rating  Reviews Count  \\\n",
       "Category       1.000000       0.165406 -0.083368 -0.099692      -0.194775   \n",
       "No of Sellers  0.165406       1.000000  0.003025  0.107523      -0.097749   \n",
       "Rank          -0.083368       0.003025  1.000000 -0.040416      -0.119950   \n",
       "Rating        -0.099692       0.107523 -0.040416  1.000000       0.218048   \n",
       "Reviews Count -0.194775      -0.097749 -0.119950  0.218048       1.000000   \n",
       "Price         -0.287085       0.125485  0.121938  0.026729      -0.020218   \n",
       "\n",
       "                  Price  \n",
       "Category      -0.287085  \n",
       "No of Sellers  0.125485  \n",
       "Rank           0.121938  \n",
       "Rating         0.026729  \n",
       "Reviews Count -0.020218  \n",
       "Price          1.000000  "
      ]
     },
     "execution_count": 36,
     "metadata": {},
     "output_type": "execute_result"
    },
    {
     "data": {
      "image/png": "[encoded data removed]",
      "text/plain": [
       "<Figure size 1440x720 with 2 Axes>"
      ]
     },
     "metadata": {
      "needs_background": "light"
     },
     "output_type": "display_data"
    }
   ],
   "source": [
    "plt.figure(figsize=(20,10))\n",
    "c= amazon.corr()\n",
    "sns.heatmap(c,cmap='twilight_shifted_r',annot=True)\n",
    "c"
   ]
  },
  {
   "cell_type": "markdown",
   "metadata": {},
   "source": [
    "Not too much correlation in the dataset. The highest correlation for rating is reviews count. The correlation for no of sellers is category and rating and there are slight correlation for price with no of sellers and rank. Hence, we can see in the heatmap there is no ideal correlation. To extract from deep we can use scatter plot."
   ]
  },
  {
   "cell_type": "markdown",
   "metadata": {},
   "source": [
    "# 2.2 Rating Vs Reviews Count "
   ]
  },
  {
   "cell_type": "code",
   "execution_count": 73,
   "metadata": {
    "scrolled": true
   },
   "outputs": [
    {
     "data": {
      "image/png": "[encoded data removed]",
      "text/plain": [
       "<Figure size 1008x432 with 2 Axes>"
      ]
     },
     "metadata": {
      "needs_background": "light"
     },
     "output_type": "display_data"
    }
   ],
   "source": [
    "fig,axes=plt.subplots(1,2,sharex=True,figsize=(14,6))\n",
    "sns.scatterplot(ax=axes[0],x=amazon[\"Reviews Count\"],y=amazon[\"Rating\"])\n",
    "sns.regplot(ax=axes[1],x=amazon[\"Reviews Count\"],y=amazon[\"Rating\"])\n",
    "plt.show()"
   ]
  },
  {
   "cell_type": "markdown",
   "metadata": {},
   "source": [
    "As you can see from the scatter plot and the trend line which is showing some relationship between the rating from customers and the reviews count."
   ]
  },
  {
   "cell_type": "markdown",
   "metadata": {},
   "source": [
    "# 2.3 No of Sellers Vs Category"
   ]
  },
  {
   "cell_type": "code",
   "execution_count": 74,
   "metadata": {},
   "outputs": [
    {
     "data": {
      "image/png": "[encoded data removed]",
      "text/plain": [
       "<Figure size 1008x432 with 2 Axes>"
      ]
     },
     "metadata": {
      "needs_background": "light"
     },
     "output_type": "display_data"
    }
   ],
   "source": [
    "fig,axes=plt.subplots(1,2,sharex=True,figsize=(14,6))\n",
    "sns.scatterplot(ax=axes[0],x=amazon[\"Category\"],y=amazon[\"No of Sellers\"])\n",
    "sns.regplot(ax=axes[1],x=amazon[\"Category\"],y=amazon[\"No of Sellers\"])\n",
    "plt.show()"
   ]
  },
  {
   "cell_type": "markdown",
   "metadata": {},
   "source": [
    "As you can see from the scatter plot and the trend line which is pretty flat that there is no relationship between no of sellers and category."
   ]
  },
  {
   "cell_type": "markdown",
   "metadata": {},
   "source": [
    "# 2.4 No of Sellers Vs Rating "
   ]
  },
  {
   "cell_type": "code",
   "execution_count": 75,
   "metadata": {},
   "outputs": [
    {
     "data": {
      "image/png": "[encoded data removed]",
      "text/plain": [
       "<Figure size 1008x432 with 2 Axes>"
      ]
     },
     "metadata": {
      "needs_background": "light"
     },
     "output_type": "display_data"
    }
   ],
   "source": [
    "fig,axes=plt.subplots(1,2,sharex=True,figsize=(14,6))\n",
    "sns.scatterplot(ax=axes[0],x=amazon[\"Rating\"],y=amazon[\"No of Sellers\"])\n",
    "sns.regplot(ax=axes[1],x=amazon[\"Rating\"],y=amazon[\"No of Sellers\"])\n",
    "plt.show()"
   ]
  },
  {
   "cell_type": "markdown",
   "metadata": {},
   "source": [
    "As you can see from the scatter plot and the trend line which is pretty flat that there is no relationship between no of sellers and rating."
   ]
  },
  {
   "cell_type": "markdown",
   "metadata": {},
   "source": [
    "# 2.5 Price Vs No of Sellers"
   ]
  },
  {
   "cell_type": "code",
   "execution_count": 43,
   "metadata": {},
   "outputs": [
    {
     "data": {
      "image/png": "[encoded data removed]",
      "text/plain": [
       "<Figure size 1008x432 with 2 Axes>"
      ]
     },
     "metadata": {
      "needs_background": "light"
     },
     "output_type": "display_data"
    }
   ],
   "source": [
    "fig,axes=plt.subplots(1,2,sharex=True,figsize=(14,6))\n",
    "sns.scatterplot(ax=axes[0],x=amazon[\"No of Sellers\"],y=amazon[\"Price\"])\n",
    "sns.regplot(ax=axes[1],x=amazon[\"No of Sellers\"],y=amazon[\"Price\"])\n",
    "plt.show()"
   ]
  },
  {
   "cell_type": "markdown",
   "metadata": {},
   "source": [
    "As you can see from the scatter plot and the trend line which is showing that there is no relationship between price and no of sellers."
   ]
  },
  {
   "cell_type": "markdown",
   "metadata": {},
   "source": [
    "# 2.6 Price Vs Rank "
   ]
  },
  {
   "cell_type": "code",
   "execution_count": 45,
   "metadata": {},
   "outputs": [
    {
     "data": {
      "image/png": "[encoded data removed]",
      "text/plain": [
       "<Figure size 1008x432 with 2 Axes>"
      ]
     },
     "metadata": {
      "needs_background": "light"
     },
     "output_type": "display_data"
    }
   ],
   "source": [
    "fig,axes=plt.subplots(1,2,sharex=True,figsize=(14,6))\n",
    "sns.scatterplot(ax=axes[0],x=amazon[\"Rank\"],y=amazon[\"Price\"])\n",
    "sns.regplot(ax=axes[1],x=amazon[\"Rank\"],y=amazon[\"Price\"])\n",
    "plt.show()"
   ]
  },
  {
   "cell_type": "markdown",
   "metadata": {},
   "source": [
    "As you can see from the scatter plot and the trend line which is pretty flat that there is no relationship between price and rank."
   ]
  },
  {
   "cell_type": "markdown",
   "metadata": {},
   "source": [
    "# Conclusion"
   ]
  },
  {
   "cell_type": "markdown",
   "metadata": {},
   "source": [
    "From the study we can convey only the overall performance of the sellers, we can't take individually, Because of the some limitations in the data. The dataset is incomplete with limited number of columns and rows.\n",
    "\n",
    "Intertesting factor is that the sellers with Electonics sold highest amount of items. Amazon can consider sellers with electronics providing the best productivity for the organization.\n",
    "\n",
    "Also Amazon have to boost the performance of other sellers for better productivity and goodwillof the organization.\n",
    "\n",
    "Here we can conclude that the rating is best at its optimum level of 4.8 with the highest position.\n",
    "\n",
    "In the case of reviews count we can consider the best in average value of 77005.94.\n",
    "\n",
    "Must have to consider an ideal pricing.\n",
    "\n",
    "The rating has mostly happened in 4.8 with the best rating in the category of Gift cards and the category with Gift cards has more reviews count compared to others.\n",
    "\n",
    "Hence Amazon must have to focus on other categories also.\n",
    "\n",
    "Not too much correlation in the dataset. The highest correlation for rating is reviews count. The correlation for no of sellers is category and rating and there are slight correlation for price with no of sellers and rank. Hence, we can see in the heatmap there is no ideal correlation."
   ]
  }
 ],
 "metadata": {
  "kernelspec": {
   "display_name": "Python 3",
   "language": "python",
   "name": "python3"
  },
  "language_info": {
   "codemirror_mode": {
    "name": "ipython",
    "version": 3
   },
   "file_extension": ".py",
   "mimetype": "text/x-python",
   "name": "python",
   "nbconvert_exporter": "python",
   "pygments_lexer": "ipython3",
   "version": "3.8.5"
  }
 },
 "nbformat": 4,
 "nbformat_minor": 4
}
